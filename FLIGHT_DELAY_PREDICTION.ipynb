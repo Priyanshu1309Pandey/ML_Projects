{
 "cells": [
  {
   "cell_type": "markdown",
   "metadata": {},
   "source": [
    "## DATA PRE-PROCESSING"
   ]
  },
  {
   "cell_type": "code",
   "execution_count": 1,
   "metadata": {},
   "outputs": [],
   "source": [
    "import pandas as pd\n",
    "import numpy as np\n",
    "import matplotlib.pyplot as plt\n",
    "import time\n",
    "import warnings\n",
    "warnings.filterwarnings('ignore')"
   ]
  },
  {
   "cell_type": "code",
   "execution_count": 2,
   "metadata": {},
   "outputs": [
    {
     "name": "stdout",
     "output_type": "stream",
     "text": [
      "(5819079, 31)\n"
     ]
    }
   ],
   "source": [
    "df_use = pd.read_csv('C:/Users/PRIYANSHU/MJ/flights.csv')\n",
    "print(df_use.shape)"
   ]
  },
  {
   "cell_type": "code",
   "execution_count": 3,
   "metadata": {},
   "outputs": [],
   "source": [
    "df = df_use.sample(n=20000).copy()\n",
    "del df_use"
   ]
  },
  {
   "cell_type": "code",
   "execution_count": 4,
   "metadata": {},
   "outputs": [
    {
     "name": "stdout",
     "output_type": "stream",
     "text": [
      "(20000, 31)\n"
     ]
    },
    {
     "data": {
      "text/html": [
       "<div>\n",
       "<style scoped>\n",
       "    .dataframe tbody tr th:only-of-type {\n",
       "        vertical-align: middle;\n",
       "    }\n",
       "\n",
       "    .dataframe tbody tr th {\n",
       "        vertical-align: top;\n",
       "    }\n",
       "\n",
       "    .dataframe thead th {\n",
       "        text-align: right;\n",
       "    }\n",
       "</style>\n",
       "<table border=\"1\" class=\"dataframe\">\n",
       "  <thead>\n",
       "    <tr style=\"text-align: right;\">\n",
       "      <th></th>\n",
       "      <th>YEAR</th>\n",
       "      <th>MONTH</th>\n",
       "      <th>DAY</th>\n",
       "      <th>DAY_OF_WEEK</th>\n",
       "      <th>AIRLINE</th>\n",
       "      <th>FLIGHT_NUMBER</th>\n",
       "      <th>TAIL_NUMBER</th>\n",
       "      <th>ORIGIN_AIRPORT</th>\n",
       "      <th>DESTINATION_AIRPORT</th>\n",
       "      <th>SCHEDULED_DEPARTURE</th>\n",
       "      <th>...</th>\n",
       "      <th>ARRIVAL_TIME</th>\n",
       "      <th>ARRIVAL_DELAY</th>\n",
       "      <th>DIVERTED</th>\n",
       "      <th>CANCELLED</th>\n",
       "      <th>CANCELLATION_REASON</th>\n",
       "      <th>AIR_SYSTEM_DELAY</th>\n",
       "      <th>SECURITY_DELAY</th>\n",
       "      <th>AIRLINE_DELAY</th>\n",
       "      <th>LATE_AIRCRAFT_DELAY</th>\n",
       "      <th>WEATHER_DELAY</th>\n",
       "    </tr>\n",
       "  </thead>\n",
       "  <tbody>\n",
       "    <tr>\n",
       "      <th>4598004</th>\n",
       "      <td>2015</td>\n",
       "      <td>10</td>\n",
       "      <td>14</td>\n",
       "      <td>3</td>\n",
       "      <td>DL</td>\n",
       "      <td>1894</td>\n",
       "      <td>N354NW</td>\n",
       "      <td>14771</td>\n",
       "      <td>11193</td>\n",
       "      <td>1205</td>\n",
       "      <td>...</td>\n",
       "      <td>1921.0</td>\n",
       "      <td>-4.0</td>\n",
       "      <td>0</td>\n",
       "      <td>0</td>\n",
       "      <td>NaN</td>\n",
       "      <td>NaN</td>\n",
       "      <td>NaN</td>\n",
       "      <td>NaN</td>\n",
       "      <td>NaN</td>\n",
       "      <td>NaN</td>\n",
       "    </tr>\n",
       "    <tr>\n",
       "      <th>491375</th>\n",
       "      <td>2015</td>\n",
       "      <td>2</td>\n",
       "      <td>2</td>\n",
       "      <td>1</td>\n",
       "      <td>WN</td>\n",
       "      <td>1320</td>\n",
       "      <td>N778SW</td>\n",
       "      <td>SFO</td>\n",
       "      <td>STL</td>\n",
       "      <td>1315</td>\n",
       "      <td>...</td>\n",
       "      <td>1852.0</td>\n",
       "      <td>-13.0</td>\n",
       "      <td>0</td>\n",
       "      <td>0</td>\n",
       "      <td>NaN</td>\n",
       "      <td>NaN</td>\n",
       "      <td>NaN</td>\n",
       "      <td>NaN</td>\n",
       "      <td>NaN</td>\n",
       "      <td>NaN</td>\n",
       "    </tr>\n",
       "    <tr>\n",
       "      <th>484432</th>\n",
       "      <td>2015</td>\n",
       "      <td>2</td>\n",
       "      <td>2</td>\n",
       "      <td>1</td>\n",
       "      <td>US</td>\n",
       "      <td>1951</td>\n",
       "      <td>NaN</td>\n",
       "      <td>LGA</td>\n",
       "      <td>CLT</td>\n",
       "      <td>630</td>\n",
       "      <td>...</td>\n",
       "      <td>NaN</td>\n",
       "      <td>NaN</td>\n",
       "      <td>0</td>\n",
       "      <td>1</td>\n",
       "      <td>B</td>\n",
       "      <td>NaN</td>\n",
       "      <td>NaN</td>\n",
       "      <td>NaN</td>\n",
       "      <td>NaN</td>\n",
       "      <td>NaN</td>\n",
       "    </tr>\n",
       "    <tr>\n",
       "      <th>2543790</th>\n",
       "      <td>2015</td>\n",
       "      <td>6</td>\n",
       "      <td>10</td>\n",
       "      <td>3</td>\n",
       "      <td>NK</td>\n",
       "      <td>412</td>\n",
       "      <td>N622NK</td>\n",
       "      <td>MYR</td>\n",
       "      <td>LBE</td>\n",
       "      <td>1240</td>\n",
       "      <td>...</td>\n",
       "      <td>1410.0</td>\n",
       "      <td>2.0</td>\n",
       "      <td>0</td>\n",
       "      <td>0</td>\n",
       "      <td>NaN</td>\n",
       "      <td>NaN</td>\n",
       "      <td>NaN</td>\n",
       "      <td>NaN</td>\n",
       "      <td>NaN</td>\n",
       "      <td>NaN</td>\n",
       "    </tr>\n",
       "    <tr>\n",
       "      <th>2973281</th>\n",
       "      <td>2015</td>\n",
       "      <td>7</td>\n",
       "      <td>6</td>\n",
       "      <td>1</td>\n",
       "      <td>DL</td>\n",
       "      <td>1539</td>\n",
       "      <td>N332NB</td>\n",
       "      <td>MSP</td>\n",
       "      <td>BDL</td>\n",
       "      <td>1010</td>\n",
       "      <td>...</td>\n",
       "      <td>1343.0</td>\n",
       "      <td>-2.0</td>\n",
       "      <td>0</td>\n",
       "      <td>0</td>\n",
       "      <td>NaN</td>\n",
       "      <td>NaN</td>\n",
       "      <td>NaN</td>\n",
       "      <td>NaN</td>\n",
       "      <td>NaN</td>\n",
       "      <td>NaN</td>\n",
       "    </tr>\n",
       "  </tbody>\n",
       "</table>\n",
       "<p>5 rows × 31 columns</p>\n",
       "</div>"
      ],
      "text/plain": [
       "         YEAR  MONTH  DAY  DAY_OF_WEEK AIRLINE  FLIGHT_NUMBER TAIL_NUMBER  \\\n",
       "4598004  2015     10   14            3      DL           1894      N354NW   \n",
       "491375   2015      2    2            1      WN           1320      N778SW   \n",
       "484432   2015      2    2            1      US           1951         NaN   \n",
       "2543790  2015      6   10            3      NK            412      N622NK   \n",
       "2973281  2015      7    6            1      DL           1539      N332NB   \n",
       "\n",
       "        ORIGIN_AIRPORT DESTINATION_AIRPORT  SCHEDULED_DEPARTURE  ...  \\\n",
       "4598004          14771               11193                 1205  ...   \n",
       "491375             SFO                 STL                 1315  ...   \n",
       "484432             LGA                 CLT                  630  ...   \n",
       "2543790            MYR                 LBE                 1240  ...   \n",
       "2973281            MSP                 BDL                 1010  ...   \n",
       "\n",
       "         ARRIVAL_TIME  ARRIVAL_DELAY  DIVERTED  CANCELLED  \\\n",
       "4598004        1921.0           -4.0         0          0   \n",
       "491375         1852.0          -13.0         0          0   \n",
       "484432            NaN            NaN         0          1   \n",
       "2543790        1410.0            2.0         0          0   \n",
       "2973281        1343.0           -2.0         0          0   \n",
       "\n",
       "         CANCELLATION_REASON  AIR_SYSTEM_DELAY  SECURITY_DELAY  AIRLINE_DELAY  \\\n",
       "4598004                  NaN               NaN             NaN            NaN   \n",
       "491375                   NaN               NaN             NaN            NaN   \n",
       "484432                     B               NaN             NaN            NaN   \n",
       "2543790                  NaN               NaN             NaN            NaN   \n",
       "2973281                  NaN               NaN             NaN            NaN   \n",
       "\n",
       "         LATE_AIRCRAFT_DELAY  WEATHER_DELAY  \n",
       "4598004                  NaN            NaN  \n",
       "491375                   NaN            NaN  \n",
       "484432                   NaN            NaN  \n",
       "2543790                  NaN            NaN  \n",
       "2973281                  NaN            NaN  \n",
       "\n",
       "[5 rows x 31 columns]"
      ]
     },
     "execution_count": 4,
     "metadata": {},
     "output_type": "execute_result"
    }
   ],
   "source": [
    "print(df.shape)\n",
    "df.head()"
   ]
  },
  {
   "cell_type": "code",
   "execution_count": 5,
   "metadata": {},
   "outputs": [
    {
     "data": {
      "text/plain": [
       "YEAR                       0\n",
       "MONTH                      0\n",
       "DAY                        0\n",
       "DAY_OF_WEEK                0\n",
       "AIRLINE                    0\n",
       "FLIGHT_NUMBER              0\n",
       "TAIL_NUMBER               56\n",
       "ORIGIN_AIRPORT             0\n",
       "DESTINATION_AIRPORT        0\n",
       "SCHEDULED_DEPARTURE        0\n",
       "DEPARTURE_TIME           335\n",
       "DEPARTURE_DELAY          335\n",
       "TAXI_OUT                 345\n",
       "WHEELS_OFF               345\n",
       "SCHEDULED_TIME             0\n",
       "ELAPSED_TIME             398\n",
       "AIR_TIME                 398\n",
       "DISTANCE                   0\n",
       "WHEELS_ON                356\n",
       "TAXI_IN                  356\n",
       "SCHEDULED_ARRIVAL          0\n",
       "ARRIVAL_TIME             356\n",
       "ARRIVAL_DELAY            398\n",
       "DIVERTED                   0\n",
       "CANCELLED                  0\n",
       "CANCELLATION_REASON    19651\n",
       "AIR_SYSTEM_DELAY       16365\n",
       "SECURITY_DELAY         16365\n",
       "AIRLINE_DELAY          16365\n",
       "LATE_AIRCRAFT_DELAY    16365\n",
       "WEATHER_DELAY          16365\n",
       "dtype: int64"
      ]
     },
     "execution_count": 5,
     "metadata": {},
     "output_type": "execute_result"
    }
   ],
   "source": [
    "missing = df.isnull().sum()\n",
    "missing"
   ]
  },
  {
   "cell_type": "code",
   "execution_count": 6,
   "metadata": {},
   "outputs": [],
   "source": [
    "df.drop('CANCELLATION_REASON', axis='columns', inplace = True)"
   ]
  },
  {
   "cell_type": "code",
   "execution_count": 7,
   "metadata": {},
   "outputs": [
    {
     "data": {
      "text/plain": [
       "YEAR                       0\n",
       "MONTH                      0\n",
       "DAY                        0\n",
       "DAY_OF_WEEK                0\n",
       "AIRLINE                    0\n",
       "FLIGHT_NUMBER              0\n",
       "TAIL_NUMBER               56\n",
       "ORIGIN_AIRPORT             0\n",
       "DESTINATION_AIRPORT        0\n",
       "SCHEDULED_DEPARTURE        0\n",
       "DEPARTURE_TIME           335\n",
       "DEPARTURE_DELAY          335\n",
       "TAXI_OUT                 345\n",
       "WHEELS_OFF               345\n",
       "SCHEDULED_TIME             0\n",
       "ELAPSED_TIME             398\n",
       "AIR_TIME                 398\n",
       "DISTANCE                   0\n",
       "WHEELS_ON                356\n",
       "TAXI_IN                  356\n",
       "SCHEDULED_ARRIVAL          0\n",
       "ARRIVAL_TIME             356\n",
       "ARRIVAL_DELAY            398\n",
       "DIVERTED                   0\n",
       "CANCELLED                  0\n",
       "AIR_SYSTEM_DELAY       16365\n",
       "SECURITY_DELAY         16365\n",
       "AIRLINE_DELAY          16365\n",
       "LATE_AIRCRAFT_DELAY    16365\n",
       "WEATHER_DELAY          16365\n",
       "dtype: int64"
      ]
     },
     "execution_count": 7,
     "metadata": {},
     "output_type": "execute_result"
    }
   ],
   "source": [
    "missing = df.isnull().sum()\n",
    "missing"
   ]
  },
  {
   "cell_type": "code",
   "execution_count": 8,
   "metadata": {},
   "outputs": [],
   "source": [
    "df.drop(['AIR_SYSTEM_DELAY','SECURITY_DELAY','AIRLINE_DELAY','LATE_AIRCRAFT_DELAY','WEATHER_DELAY'], axis= 1, inplace = True)"
   ]
  },
  {
   "cell_type": "code",
   "execution_count": 9,
   "metadata": {},
   "outputs": [
    {
     "data": {
      "text/plain": [
       "YEAR                     0\n",
       "MONTH                    0\n",
       "DAY                      0\n",
       "DAY_OF_WEEK              0\n",
       "AIRLINE                  0\n",
       "FLIGHT_NUMBER            0\n",
       "TAIL_NUMBER             56\n",
       "ORIGIN_AIRPORT           0\n",
       "DESTINATION_AIRPORT      0\n",
       "SCHEDULED_DEPARTURE      0\n",
       "DEPARTURE_TIME         335\n",
       "DEPARTURE_DELAY        335\n",
       "TAXI_OUT               345\n",
       "WHEELS_OFF             345\n",
       "SCHEDULED_TIME           0\n",
       "ELAPSED_TIME           398\n",
       "AIR_TIME               398\n",
       "DISTANCE                 0\n",
       "WHEELS_ON              356\n",
       "TAXI_IN                356\n",
       "SCHEDULED_ARRIVAL        0\n",
       "ARRIVAL_TIME           356\n",
       "ARRIVAL_DELAY          398\n",
       "DIVERTED                 0\n",
       "CANCELLED                0\n",
       "dtype: int64"
      ]
     },
     "execution_count": 9,
     "metadata": {},
     "output_type": "execute_result"
    }
   ],
   "source": [
    "missing = df.isnull().sum()\n",
    "missing"
   ]
  },
  {
   "cell_type": "code",
   "execution_count": 10,
   "metadata": {},
   "outputs": [
    {
     "data": {
      "text/plain": [
       "201     18\n",
       "470     18\n",
       "303     18\n",
       "36      18\n",
       "715     17\n",
       "        ..\n",
       "2278     1\n",
       "6388     1\n",
       "6404     1\n",
       "6420     1\n",
       "2049     1\n",
       "Name: FLIGHT_NUMBER, Length: 5355, dtype: int64"
      ]
     },
     "execution_count": 10,
     "metadata": {},
     "output_type": "execute_result"
    }
   ],
   "source": [
    "df['FLIGHT_NUMBER'].value_counts()"
   ]
  },
  {
   "cell_type": "code",
   "execution_count": 11,
   "metadata": {},
   "outputs": [],
   "source": [
    "df['DEPARTURE_TIME'].fillna(value=df['DEPARTURE_TIME'].mean(), inplace=True)"
   ]
  },
  {
   "cell_type": "code",
   "execution_count": 12,
   "metadata": {},
   "outputs": [
    {
     "data": {
      "text/plain": [
       "YEAR                     0\n",
       "MONTH                    0\n",
       "DAY                      0\n",
       "DAY_OF_WEEK              0\n",
       "AIRLINE                  0\n",
       "FLIGHT_NUMBER            0\n",
       "TAIL_NUMBER             56\n",
       "ORIGIN_AIRPORT           0\n",
       "DESTINATION_AIRPORT      0\n",
       "SCHEDULED_DEPARTURE      0\n",
       "DEPARTURE_TIME           0\n",
       "DEPARTURE_DELAY        335\n",
       "TAXI_OUT               345\n",
       "WHEELS_OFF             345\n",
       "SCHEDULED_TIME           0\n",
       "ELAPSED_TIME           398\n",
       "AIR_TIME               398\n",
       "DISTANCE                 0\n",
       "WHEELS_ON              356\n",
       "TAXI_IN                356\n",
       "SCHEDULED_ARRIVAL        0\n",
       "ARRIVAL_TIME           356\n",
       "ARRIVAL_DELAY          398\n",
       "DIVERTED                 0\n",
       "CANCELLED                0\n",
       "dtype: int64"
      ]
     },
     "execution_count": 12,
     "metadata": {},
     "output_type": "execute_result"
    }
   ],
   "source": [
    "missing = df.isnull().sum()\n",
    "missing"
   ]
  },
  {
   "cell_type": "code",
   "execution_count": 13,
   "metadata": {},
   "outputs": [],
   "source": [
    "df['DEPARTURE_TIME']=df['DEPARTURE_TIME'].astype(int)"
   ]
  },
  {
   "cell_type": "code",
   "execution_count": 14,
   "metadata": {},
   "outputs": [
    {
     "data": {
      "text/plain": [
       "4598004    1204\n",
       "491375     1315\n",
       "484432     1336\n",
       "2543790    1236\n",
       "2973281    1009\n",
       "           ... \n",
       "4262931     845\n",
       "4634520    1523\n",
       "3306525    2329\n",
       "4707888    1111\n",
       "2453393      40\n",
       "Name: DEPARTURE_TIME, Length: 20000, dtype: int32"
      ]
     },
     "execution_count": 14,
     "metadata": {},
     "output_type": "execute_result"
    }
   ],
   "source": [
    "df['DEPARTURE_TIME']"
   ]
  },
  {
   "cell_type": "code",
   "execution_count": 15,
   "metadata": {},
   "outputs": [],
   "source": [
    "df['DEPARTURE_DELAY'].fillna(value=df['DEPARTURE_DELAY'].mean(), inplace=True)\n",
    "df['TAXI_OUT'].fillna(value=df['TAXI_OUT'].mean(), inplace=True)\n",
    "df['WHEELS_OFF'].fillna(value=df['WHEELS_OFF'].mean(), inplace=True)\n",
    "df['WHEELS_ON'].fillna(value=df['WHEELS_ON'].mean(), inplace=True)\n",
    "df['ELAPSED_TIME'].fillna(value=df['ELAPSED_TIME'].mean(), inplace=True)\n",
    "df['AIR_TIME'].fillna(value=df['AIR_TIME'].mean(), inplace=True)\n",
    "df['TAXI_IN'].fillna(value=df['TAXI_IN'].mean(), inplace=True)\n",
    "df['ARRIVAL_TIME'].fillna(value=df['ARRIVAL_TIME'].mean(), inplace=True)\n",
    "df['ARRIVAL_DELAY'].fillna(value=df['ARRIVAL_DELAY'].mean(), inplace=True)"
   ]
  },
  {
   "cell_type": "code",
   "execution_count": 16,
   "metadata": {},
   "outputs": [],
   "source": [
    "import warnings\n",
    "warnings.filterwarnings('ignore')"
   ]
  },
  {
   "cell_type": "code",
   "execution_count": 17,
   "metadata": {},
   "outputs": [],
   "source": [
    "df['DEPARTURE_DELAY']=df['DEPARTURE_DELAY'].astype(int)\n",
    "df['TAXI_OUT']=df['TAXI_OUT'].astype(int)\n",
    "df['WHEELS_OFF']=df['WHEELS_OFF'].astype(int)\n",
    "df['WHEELS_ON']=df['WHEELS_ON'].astype(int)\n",
    "df['ELAPSED_TIME']=df['ELAPSED_TIME'].astype(int)\n",
    "df['AIR_TIME']=df['AIR_TIME'].astype(int)\n",
    "df['TAXI_IN']=df['TAXI_IN'].astype(int)\n",
    "df['ARRIVAL_TIME']=df['ARRIVAL_TIME'].astype(int)\n",
    "df['ARRIVAL_DELAY']=df['ARRIVAL_DELAY'].astype(int)"
   ]
  },
  {
   "cell_type": "code",
   "execution_count": 18,
   "metadata": {},
   "outputs": [
    {
     "data": {
      "text/html": [
       "<div>\n",
       "<style scoped>\n",
       "    .dataframe tbody tr th:only-of-type {\n",
       "        vertical-align: middle;\n",
       "    }\n",
       "\n",
       "    .dataframe tbody tr th {\n",
       "        vertical-align: top;\n",
       "    }\n",
       "\n",
       "    .dataframe thead th {\n",
       "        text-align: right;\n",
       "    }\n",
       "</style>\n",
       "<table border=\"1\" class=\"dataframe\">\n",
       "  <thead>\n",
       "    <tr style=\"text-align: right;\">\n",
       "      <th></th>\n",
       "      <th>YEAR</th>\n",
       "      <th>MONTH</th>\n",
       "      <th>DAY</th>\n",
       "      <th>DAY_OF_WEEK</th>\n",
       "      <th>AIRLINE</th>\n",
       "      <th>FLIGHT_NUMBER</th>\n",
       "      <th>TAIL_NUMBER</th>\n",
       "      <th>ORIGIN_AIRPORT</th>\n",
       "      <th>DESTINATION_AIRPORT</th>\n",
       "      <th>SCHEDULED_DEPARTURE</th>\n",
       "      <th>...</th>\n",
       "      <th>ELAPSED_TIME</th>\n",
       "      <th>AIR_TIME</th>\n",
       "      <th>DISTANCE</th>\n",
       "      <th>WHEELS_ON</th>\n",
       "      <th>TAXI_IN</th>\n",
       "      <th>SCHEDULED_ARRIVAL</th>\n",
       "      <th>ARRIVAL_TIME</th>\n",
       "      <th>ARRIVAL_DELAY</th>\n",
       "      <th>DIVERTED</th>\n",
       "      <th>CANCELLED</th>\n",
       "    </tr>\n",
       "  </thead>\n",
       "  <tbody>\n",
       "    <tr>\n",
       "      <th>4598004</th>\n",
       "      <td>2015</td>\n",
       "      <td>10</td>\n",
       "      <td>14</td>\n",
       "      <td>3</td>\n",
       "      <td>DL</td>\n",
       "      <td>1894</td>\n",
       "      <td>N354NW</td>\n",
       "      <td>14771</td>\n",
       "      <td>11193</td>\n",
       "      <td>1205</td>\n",
       "      <td>...</td>\n",
       "      <td>257</td>\n",
       "      <td>232</td>\n",
       "      <td>2036</td>\n",
       "      <td>1917</td>\n",
       "      <td>4</td>\n",
       "      <td>1925</td>\n",
       "      <td>1921</td>\n",
       "      <td>-4</td>\n",
       "      <td>0</td>\n",
       "      <td>0</td>\n",
       "    </tr>\n",
       "    <tr>\n",
       "      <th>491375</th>\n",
       "      <td>2015</td>\n",
       "      <td>2</td>\n",
       "      <td>2</td>\n",
       "      <td>1</td>\n",
       "      <td>WN</td>\n",
       "      <td>1320</td>\n",
       "      <td>N778SW</td>\n",
       "      <td>SFO</td>\n",
       "      <td>STL</td>\n",
       "      <td>1315</td>\n",
       "      <td>...</td>\n",
       "      <td>217</td>\n",
       "      <td>200</td>\n",
       "      <td>1735</td>\n",
       "      <td>1849</td>\n",
       "      <td>3</td>\n",
       "      <td>1905</td>\n",
       "      <td>1852</td>\n",
       "      <td>-13</td>\n",
       "      <td>0</td>\n",
       "      <td>0</td>\n",
       "    </tr>\n",
       "    <tr>\n",
       "      <th>484432</th>\n",
       "      <td>2015</td>\n",
       "      <td>2</td>\n",
       "      <td>2</td>\n",
       "      <td>1</td>\n",
       "      <td>US</td>\n",
       "      <td>1951</td>\n",
       "      <td>NaN</td>\n",
       "      <td>LGA</td>\n",
       "      <td>CLT</td>\n",
       "      <td>630</td>\n",
       "      <td>...</td>\n",
       "      <td>137</td>\n",
       "      <td>113</td>\n",
       "      <td>544</td>\n",
       "      <td>1475</td>\n",
       "      <td>7</td>\n",
       "      <td>841</td>\n",
       "      <td>1480</td>\n",
       "      <td>4</td>\n",
       "      <td>0</td>\n",
       "      <td>1</td>\n",
       "    </tr>\n",
       "    <tr>\n",
       "      <th>2543790</th>\n",
       "      <td>2015</td>\n",
       "      <td>6</td>\n",
       "      <td>10</td>\n",
       "      <td>3</td>\n",
       "      <td>NK</td>\n",
       "      <td>412</td>\n",
       "      <td>N622NK</td>\n",
       "      <td>MYR</td>\n",
       "      <td>LBE</td>\n",
       "      <td>1240</td>\n",
       "      <td>...</td>\n",
       "      <td>94</td>\n",
       "      <td>69</td>\n",
       "      <td>456</td>\n",
       "      <td>1406</td>\n",
       "      <td>4</td>\n",
       "      <td>1408</td>\n",
       "      <td>1410</td>\n",
       "      <td>2</td>\n",
       "      <td>0</td>\n",
       "      <td>0</td>\n",
       "    </tr>\n",
       "    <tr>\n",
       "      <th>2973281</th>\n",
       "      <td>2015</td>\n",
       "      <td>7</td>\n",
       "      <td>6</td>\n",
       "      <td>1</td>\n",
       "      <td>DL</td>\n",
       "      <td>1539</td>\n",
       "      <td>N332NB</td>\n",
       "      <td>MSP</td>\n",
       "      <td>BDL</td>\n",
       "      <td>1010</td>\n",
       "      <td>...</td>\n",
       "      <td>154</td>\n",
       "      <td>136</td>\n",
       "      <td>1050</td>\n",
       "      <td>1337</td>\n",
       "      <td>6</td>\n",
       "      <td>1345</td>\n",
       "      <td>1343</td>\n",
       "      <td>-2</td>\n",
       "      <td>0</td>\n",
       "      <td>0</td>\n",
       "    </tr>\n",
       "    <tr>\n",
       "      <th>...</th>\n",
       "      <td>...</td>\n",
       "      <td>...</td>\n",
       "      <td>...</td>\n",
       "      <td>...</td>\n",
       "      <td>...</td>\n",
       "      <td>...</td>\n",
       "      <td>...</td>\n",
       "      <td>...</td>\n",
       "      <td>...</td>\n",
       "      <td>...</td>\n",
       "      <td>...</td>\n",
       "      <td>...</td>\n",
       "      <td>...</td>\n",
       "      <td>...</td>\n",
       "      <td>...</td>\n",
       "      <td>...</td>\n",
       "      <td>...</td>\n",
       "      <td>...</td>\n",
       "      <td>...</td>\n",
       "      <td>...</td>\n",
       "      <td>...</td>\n",
       "    </tr>\n",
       "    <tr>\n",
       "      <th>4262931</th>\n",
       "      <td>2015</td>\n",
       "      <td>9</td>\n",
       "      <td>23</td>\n",
       "      <td>3</td>\n",
       "      <td>OO</td>\n",
       "      <td>4769</td>\n",
       "      <td>N429SW</td>\n",
       "      <td>SLC</td>\n",
       "      <td>TUS</td>\n",
       "      <td>845</td>\n",
       "      <td>...</td>\n",
       "      <td>108</td>\n",
       "      <td>86</td>\n",
       "      <td>601</td>\n",
       "      <td>928</td>\n",
       "      <td>5</td>\n",
       "      <td>941</td>\n",
       "      <td>933</td>\n",
       "      <td>-8</td>\n",
       "      <td>0</td>\n",
       "      <td>0</td>\n",
       "    </tr>\n",
       "    <tr>\n",
       "      <th>4634520</th>\n",
       "      <td>2015</td>\n",
       "      <td>10</td>\n",
       "      <td>16</td>\n",
       "      <td>5</td>\n",
       "      <td>EV</td>\n",
       "      <td>4892</td>\n",
       "      <td>N881AS</td>\n",
       "      <td>11433</td>\n",
       "      <td>10577</td>\n",
       "      <td>1526</td>\n",
       "      <td>...</td>\n",
       "      <td>76</td>\n",
       "      <td>54</td>\n",
       "      <td>378</td>\n",
       "      <td>1635</td>\n",
       "      <td>4</td>\n",
       "      <td>1646</td>\n",
       "      <td>1639</td>\n",
       "      <td>-7</td>\n",
       "      <td>0</td>\n",
       "      <td>0</td>\n",
       "    </tr>\n",
       "    <tr>\n",
       "      <th>3306525</th>\n",
       "      <td>2015</td>\n",
       "      <td>7</td>\n",
       "      <td>25</td>\n",
       "      <td>6</td>\n",
       "      <td>DL</td>\n",
       "      <td>1075</td>\n",
       "      <td>N603AT</td>\n",
       "      <td>ATL</td>\n",
       "      <td>HSV</td>\n",
       "      <td>2305</td>\n",
       "      <td>...</td>\n",
       "      <td>44</td>\n",
       "      <td>30</td>\n",
       "      <td>151</td>\n",
       "      <td>2308</td>\n",
       "      <td>5</td>\n",
       "      <td>2259</td>\n",
       "      <td>2313</td>\n",
       "      <td>14</td>\n",
       "      <td>0</td>\n",
       "      <td>0</td>\n",
       "    </tr>\n",
       "    <tr>\n",
       "      <th>4707888</th>\n",
       "      <td>2015</td>\n",
       "      <td>10</td>\n",
       "      <td>21</td>\n",
       "      <td>3</td>\n",
       "      <td>AA</td>\n",
       "      <td>1810</td>\n",
       "      <td>N578UW</td>\n",
       "      <td>10721</td>\n",
       "      <td>11057</td>\n",
       "      <td>1105</td>\n",
       "      <td>...</td>\n",
       "      <td>136</td>\n",
       "      <td>105</td>\n",
       "      <td>728</td>\n",
       "      <td>1316</td>\n",
       "      <td>11</td>\n",
       "      <td>1328</td>\n",
       "      <td>1327</td>\n",
       "      <td>-1</td>\n",
       "      <td>0</td>\n",
       "      <td>0</td>\n",
       "    </tr>\n",
       "    <tr>\n",
       "      <th>2453393</th>\n",
       "      <td>2015</td>\n",
       "      <td>6</td>\n",
       "      <td>5</td>\n",
       "      <td>5</td>\n",
       "      <td>DL</td>\n",
       "      <td>1611</td>\n",
       "      <td>N3766</td>\n",
       "      <td>FAI</td>\n",
       "      <td>SEA</td>\n",
       "      <td>45</td>\n",
       "      <td>...</td>\n",
       "      <td>207</td>\n",
       "      <td>188</td>\n",
       "      <td>1533</td>\n",
       "      <td>502</td>\n",
       "      <td>5</td>\n",
       "      <td>511</td>\n",
       "      <td>507</td>\n",
       "      <td>-4</td>\n",
       "      <td>0</td>\n",
       "      <td>0</td>\n",
       "    </tr>\n",
       "  </tbody>\n",
       "</table>\n",
       "<p>20000 rows × 25 columns</p>\n",
       "</div>"
      ],
      "text/plain": [
       "         YEAR  MONTH  DAY  DAY_OF_WEEK AIRLINE  FLIGHT_NUMBER TAIL_NUMBER  \\\n",
       "4598004  2015     10   14            3      DL           1894      N354NW   \n",
       "491375   2015      2    2            1      WN           1320      N778SW   \n",
       "484432   2015      2    2            1      US           1951         NaN   \n",
       "2543790  2015      6   10            3      NK            412      N622NK   \n",
       "2973281  2015      7    6            1      DL           1539      N332NB   \n",
       "...       ...    ...  ...          ...     ...            ...         ...   \n",
       "4262931  2015      9   23            3      OO           4769      N429SW   \n",
       "4634520  2015     10   16            5      EV           4892      N881AS   \n",
       "3306525  2015      7   25            6      DL           1075      N603AT   \n",
       "4707888  2015     10   21            3      AA           1810      N578UW   \n",
       "2453393  2015      6    5            5      DL           1611       N3766   \n",
       "\n",
       "        ORIGIN_AIRPORT DESTINATION_AIRPORT  SCHEDULED_DEPARTURE  ...  \\\n",
       "4598004          14771               11193                 1205  ...   \n",
       "491375             SFO                 STL                 1315  ...   \n",
       "484432             LGA                 CLT                  630  ...   \n",
       "2543790            MYR                 LBE                 1240  ...   \n",
       "2973281            MSP                 BDL                 1010  ...   \n",
       "...                ...                 ...                  ...  ...   \n",
       "4262931            SLC                 TUS                  845  ...   \n",
       "4634520          11433               10577                 1526  ...   \n",
       "3306525            ATL                 HSV                 2305  ...   \n",
       "4707888          10721               11057                 1105  ...   \n",
       "2453393            FAI                 SEA                   45  ...   \n",
       "\n",
       "         ELAPSED_TIME  AIR_TIME  DISTANCE  WHEELS_ON  TAXI_IN  \\\n",
       "4598004           257       232      2036       1917        4   \n",
       "491375            217       200      1735       1849        3   \n",
       "484432            137       113       544       1475        7   \n",
       "2543790            94        69       456       1406        4   \n",
       "2973281           154       136      1050       1337        6   \n",
       "...               ...       ...       ...        ...      ...   \n",
       "4262931           108        86       601        928        5   \n",
       "4634520            76        54       378       1635        4   \n",
       "3306525            44        30       151       2308        5   \n",
       "4707888           136       105       728       1316       11   \n",
       "2453393           207       188      1533        502        5   \n",
       "\n",
       "         SCHEDULED_ARRIVAL  ARRIVAL_TIME  ARRIVAL_DELAY  DIVERTED  CANCELLED  \n",
       "4598004               1925          1921             -4         0          0  \n",
       "491375                1905          1852            -13         0          0  \n",
       "484432                 841          1480              4         0          1  \n",
       "2543790               1408          1410              2         0          0  \n",
       "2973281               1345          1343             -2         0          0  \n",
       "...                    ...           ...            ...       ...        ...  \n",
       "4262931                941           933             -8         0          0  \n",
       "4634520               1646          1639             -7         0          0  \n",
       "3306525               2259          2313             14         0          0  \n",
       "4707888               1328          1327             -1         0          0  \n",
       "2453393                511           507             -4         0          0  \n",
       "\n",
       "[20000 rows x 25 columns]"
      ]
     },
     "execution_count": 18,
     "metadata": {},
     "output_type": "execute_result"
    }
   ],
   "source": [
    "df"
   ]
  },
  {
   "cell_type": "code",
   "execution_count": 19,
   "metadata": {},
   "outputs": [],
   "source": [
    "df = df.dropna()"
   ]
  },
  {
   "cell_type": "code",
   "execution_count": 20,
   "metadata": {},
   "outputs": [
    {
     "data": {
      "text/html": [
       "<div>\n",
       "<style scoped>\n",
       "    .dataframe tbody tr th:only-of-type {\n",
       "        vertical-align: middle;\n",
       "    }\n",
       "\n",
       "    .dataframe tbody tr th {\n",
       "        vertical-align: top;\n",
       "    }\n",
       "\n",
       "    .dataframe thead th {\n",
       "        text-align: right;\n",
       "    }\n",
       "</style>\n",
       "<table border=\"1\" class=\"dataframe\">\n",
       "  <thead>\n",
       "    <tr style=\"text-align: right;\">\n",
       "      <th></th>\n",
       "      <th>YEAR</th>\n",
       "      <th>MONTH</th>\n",
       "      <th>DAY</th>\n",
       "      <th>DAY_OF_WEEK</th>\n",
       "      <th>AIRLINE</th>\n",
       "      <th>FLIGHT_NUMBER</th>\n",
       "      <th>TAIL_NUMBER</th>\n",
       "      <th>ORIGIN_AIRPORT</th>\n",
       "      <th>DESTINATION_AIRPORT</th>\n",
       "      <th>SCHEDULED_DEPARTURE</th>\n",
       "      <th>...</th>\n",
       "      <th>ELAPSED_TIME</th>\n",
       "      <th>AIR_TIME</th>\n",
       "      <th>DISTANCE</th>\n",
       "      <th>WHEELS_ON</th>\n",
       "      <th>TAXI_IN</th>\n",
       "      <th>SCHEDULED_ARRIVAL</th>\n",
       "      <th>ARRIVAL_TIME</th>\n",
       "      <th>ARRIVAL_DELAY</th>\n",
       "      <th>DIVERTED</th>\n",
       "      <th>CANCELLED</th>\n",
       "    </tr>\n",
       "  </thead>\n",
       "  <tbody>\n",
       "    <tr>\n",
       "      <th>4598004</th>\n",
       "      <td>2015</td>\n",
       "      <td>10</td>\n",
       "      <td>14</td>\n",
       "      <td>3</td>\n",
       "      <td>DL</td>\n",
       "      <td>1894</td>\n",
       "      <td>N354NW</td>\n",
       "      <td>14771</td>\n",
       "      <td>11193</td>\n",
       "      <td>1205</td>\n",
       "      <td>...</td>\n",
       "      <td>257</td>\n",
       "      <td>232</td>\n",
       "      <td>2036</td>\n",
       "      <td>1917</td>\n",
       "      <td>4</td>\n",
       "      <td>1925</td>\n",
       "      <td>1921</td>\n",
       "      <td>-4</td>\n",
       "      <td>0</td>\n",
       "      <td>0</td>\n",
       "    </tr>\n",
       "    <tr>\n",
       "      <th>491375</th>\n",
       "      <td>2015</td>\n",
       "      <td>2</td>\n",
       "      <td>2</td>\n",
       "      <td>1</td>\n",
       "      <td>WN</td>\n",
       "      <td>1320</td>\n",
       "      <td>N778SW</td>\n",
       "      <td>SFO</td>\n",
       "      <td>STL</td>\n",
       "      <td>1315</td>\n",
       "      <td>...</td>\n",
       "      <td>217</td>\n",
       "      <td>200</td>\n",
       "      <td>1735</td>\n",
       "      <td>1849</td>\n",
       "      <td>3</td>\n",
       "      <td>1905</td>\n",
       "      <td>1852</td>\n",
       "      <td>-13</td>\n",
       "      <td>0</td>\n",
       "      <td>0</td>\n",
       "    </tr>\n",
       "    <tr>\n",
       "      <th>2543790</th>\n",
       "      <td>2015</td>\n",
       "      <td>6</td>\n",
       "      <td>10</td>\n",
       "      <td>3</td>\n",
       "      <td>NK</td>\n",
       "      <td>412</td>\n",
       "      <td>N622NK</td>\n",
       "      <td>MYR</td>\n",
       "      <td>LBE</td>\n",
       "      <td>1240</td>\n",
       "      <td>...</td>\n",
       "      <td>94</td>\n",
       "      <td>69</td>\n",
       "      <td>456</td>\n",
       "      <td>1406</td>\n",
       "      <td>4</td>\n",
       "      <td>1408</td>\n",
       "      <td>1410</td>\n",
       "      <td>2</td>\n",
       "      <td>0</td>\n",
       "      <td>0</td>\n",
       "    </tr>\n",
       "    <tr>\n",
       "      <th>2973281</th>\n",
       "      <td>2015</td>\n",
       "      <td>7</td>\n",
       "      <td>6</td>\n",
       "      <td>1</td>\n",
       "      <td>DL</td>\n",
       "      <td>1539</td>\n",
       "      <td>N332NB</td>\n",
       "      <td>MSP</td>\n",
       "      <td>BDL</td>\n",
       "      <td>1010</td>\n",
       "      <td>...</td>\n",
       "      <td>154</td>\n",
       "      <td>136</td>\n",
       "      <td>1050</td>\n",
       "      <td>1337</td>\n",
       "      <td>6</td>\n",
       "      <td>1345</td>\n",
       "      <td>1343</td>\n",
       "      <td>-2</td>\n",
       "      <td>0</td>\n",
       "      <td>0</td>\n",
       "    </tr>\n",
       "    <tr>\n",
       "      <th>5255884</th>\n",
       "      <td>2015</td>\n",
       "      <td>11</td>\n",
       "      <td>25</td>\n",
       "      <td>3</td>\n",
       "      <td>AA</td>\n",
       "      <td>433</td>\n",
       "      <td>N162UW</td>\n",
       "      <td>PHX</td>\n",
       "      <td>SFO</td>\n",
       "      <td>1120</td>\n",
       "      <td>...</td>\n",
       "      <td>122</td>\n",
       "      <td>101</td>\n",
       "      <td>651</td>\n",
       "      <td>1213</td>\n",
       "      <td>6</td>\n",
       "      <td>1235</td>\n",
       "      <td>1219</td>\n",
       "      <td>-16</td>\n",
       "      <td>0</td>\n",
       "      <td>0</td>\n",
       "    </tr>\n",
       "    <tr>\n",
       "      <th>...</th>\n",
       "      <td>...</td>\n",
       "      <td>...</td>\n",
       "      <td>...</td>\n",
       "      <td>...</td>\n",
       "      <td>...</td>\n",
       "      <td>...</td>\n",
       "      <td>...</td>\n",
       "      <td>...</td>\n",
       "      <td>...</td>\n",
       "      <td>...</td>\n",
       "      <td>...</td>\n",
       "      <td>...</td>\n",
       "      <td>...</td>\n",
       "      <td>...</td>\n",
       "      <td>...</td>\n",
       "      <td>...</td>\n",
       "      <td>...</td>\n",
       "      <td>...</td>\n",
       "      <td>...</td>\n",
       "      <td>...</td>\n",
       "      <td>...</td>\n",
       "    </tr>\n",
       "    <tr>\n",
       "      <th>4262931</th>\n",
       "      <td>2015</td>\n",
       "      <td>9</td>\n",
       "      <td>23</td>\n",
       "      <td>3</td>\n",
       "      <td>OO</td>\n",
       "      <td>4769</td>\n",
       "      <td>N429SW</td>\n",
       "      <td>SLC</td>\n",
       "      <td>TUS</td>\n",
       "      <td>845</td>\n",
       "      <td>...</td>\n",
       "      <td>108</td>\n",
       "      <td>86</td>\n",
       "      <td>601</td>\n",
       "      <td>928</td>\n",
       "      <td>5</td>\n",
       "      <td>941</td>\n",
       "      <td>933</td>\n",
       "      <td>-8</td>\n",
       "      <td>0</td>\n",
       "      <td>0</td>\n",
       "    </tr>\n",
       "    <tr>\n",
       "      <th>4634520</th>\n",
       "      <td>2015</td>\n",
       "      <td>10</td>\n",
       "      <td>16</td>\n",
       "      <td>5</td>\n",
       "      <td>EV</td>\n",
       "      <td>4892</td>\n",
       "      <td>N881AS</td>\n",
       "      <td>11433</td>\n",
       "      <td>10577</td>\n",
       "      <td>1526</td>\n",
       "      <td>...</td>\n",
       "      <td>76</td>\n",
       "      <td>54</td>\n",
       "      <td>378</td>\n",
       "      <td>1635</td>\n",
       "      <td>4</td>\n",
       "      <td>1646</td>\n",
       "      <td>1639</td>\n",
       "      <td>-7</td>\n",
       "      <td>0</td>\n",
       "      <td>0</td>\n",
       "    </tr>\n",
       "    <tr>\n",
       "      <th>3306525</th>\n",
       "      <td>2015</td>\n",
       "      <td>7</td>\n",
       "      <td>25</td>\n",
       "      <td>6</td>\n",
       "      <td>DL</td>\n",
       "      <td>1075</td>\n",
       "      <td>N603AT</td>\n",
       "      <td>ATL</td>\n",
       "      <td>HSV</td>\n",
       "      <td>2305</td>\n",
       "      <td>...</td>\n",
       "      <td>44</td>\n",
       "      <td>30</td>\n",
       "      <td>151</td>\n",
       "      <td>2308</td>\n",
       "      <td>5</td>\n",
       "      <td>2259</td>\n",
       "      <td>2313</td>\n",
       "      <td>14</td>\n",
       "      <td>0</td>\n",
       "      <td>0</td>\n",
       "    </tr>\n",
       "    <tr>\n",
       "      <th>4707888</th>\n",
       "      <td>2015</td>\n",
       "      <td>10</td>\n",
       "      <td>21</td>\n",
       "      <td>3</td>\n",
       "      <td>AA</td>\n",
       "      <td>1810</td>\n",
       "      <td>N578UW</td>\n",
       "      <td>10721</td>\n",
       "      <td>11057</td>\n",
       "      <td>1105</td>\n",
       "      <td>...</td>\n",
       "      <td>136</td>\n",
       "      <td>105</td>\n",
       "      <td>728</td>\n",
       "      <td>1316</td>\n",
       "      <td>11</td>\n",
       "      <td>1328</td>\n",
       "      <td>1327</td>\n",
       "      <td>-1</td>\n",
       "      <td>0</td>\n",
       "      <td>0</td>\n",
       "    </tr>\n",
       "    <tr>\n",
       "      <th>2453393</th>\n",
       "      <td>2015</td>\n",
       "      <td>6</td>\n",
       "      <td>5</td>\n",
       "      <td>5</td>\n",
       "      <td>DL</td>\n",
       "      <td>1611</td>\n",
       "      <td>N3766</td>\n",
       "      <td>FAI</td>\n",
       "      <td>SEA</td>\n",
       "      <td>45</td>\n",
       "      <td>...</td>\n",
       "      <td>207</td>\n",
       "      <td>188</td>\n",
       "      <td>1533</td>\n",
       "      <td>502</td>\n",
       "      <td>5</td>\n",
       "      <td>511</td>\n",
       "      <td>507</td>\n",
       "      <td>-4</td>\n",
       "      <td>0</td>\n",
       "      <td>0</td>\n",
       "    </tr>\n",
       "  </tbody>\n",
       "</table>\n",
       "<p>19944 rows × 25 columns</p>\n",
       "</div>"
      ],
      "text/plain": [
       "         YEAR  MONTH  DAY  DAY_OF_WEEK AIRLINE  FLIGHT_NUMBER TAIL_NUMBER  \\\n",
       "4598004  2015     10   14            3      DL           1894      N354NW   \n",
       "491375   2015      2    2            1      WN           1320      N778SW   \n",
       "2543790  2015      6   10            3      NK            412      N622NK   \n",
       "2973281  2015      7    6            1      DL           1539      N332NB   \n",
       "5255884  2015     11   25            3      AA            433      N162UW   \n",
       "...       ...    ...  ...          ...     ...            ...         ...   \n",
       "4262931  2015      9   23            3      OO           4769      N429SW   \n",
       "4634520  2015     10   16            5      EV           4892      N881AS   \n",
       "3306525  2015      7   25            6      DL           1075      N603AT   \n",
       "4707888  2015     10   21            3      AA           1810      N578UW   \n",
       "2453393  2015      6    5            5      DL           1611       N3766   \n",
       "\n",
       "        ORIGIN_AIRPORT DESTINATION_AIRPORT  SCHEDULED_DEPARTURE  ...  \\\n",
       "4598004          14771               11193                 1205  ...   \n",
       "491375             SFO                 STL                 1315  ...   \n",
       "2543790            MYR                 LBE                 1240  ...   \n",
       "2973281            MSP                 BDL                 1010  ...   \n",
       "5255884            PHX                 SFO                 1120  ...   \n",
       "...                ...                 ...                  ...  ...   \n",
       "4262931            SLC                 TUS                  845  ...   \n",
       "4634520          11433               10577                 1526  ...   \n",
       "3306525            ATL                 HSV                 2305  ...   \n",
       "4707888          10721               11057                 1105  ...   \n",
       "2453393            FAI                 SEA                   45  ...   \n",
       "\n",
       "         ELAPSED_TIME  AIR_TIME  DISTANCE  WHEELS_ON  TAXI_IN  \\\n",
       "4598004           257       232      2036       1917        4   \n",
       "491375            217       200      1735       1849        3   \n",
       "2543790            94        69       456       1406        4   \n",
       "2973281           154       136      1050       1337        6   \n",
       "5255884           122       101       651       1213        6   \n",
       "...               ...       ...       ...        ...      ...   \n",
       "4262931           108        86       601        928        5   \n",
       "4634520            76        54       378       1635        4   \n",
       "3306525            44        30       151       2308        5   \n",
       "4707888           136       105       728       1316       11   \n",
       "2453393           207       188      1533        502        5   \n",
       "\n",
       "         SCHEDULED_ARRIVAL  ARRIVAL_TIME  ARRIVAL_DELAY  DIVERTED  CANCELLED  \n",
       "4598004               1925          1921             -4         0          0  \n",
       "491375                1905          1852            -13         0          0  \n",
       "2543790               1408          1410              2         0          0  \n",
       "2973281               1345          1343             -2         0          0  \n",
       "5255884               1235          1219            -16         0          0  \n",
       "...                    ...           ...            ...       ...        ...  \n",
       "4262931                941           933             -8         0          0  \n",
       "4634520               1646          1639             -7         0          0  \n",
       "3306525               2259          2313             14         0          0  \n",
       "4707888               1328          1327             -1         0          0  \n",
       "2453393                511           507             -4         0          0  \n",
       "\n",
       "[19944 rows x 25 columns]"
      ]
     },
     "execution_count": 20,
     "metadata": {},
     "output_type": "execute_result"
    }
   ],
   "source": [
    "df"
   ]
  },
  {
   "cell_type": "code",
   "execution_count": 21,
   "metadata": {},
   "outputs": [
    {
     "data": {
      "text/plain": [
       "YEAR                   0\n",
       "MONTH                  0\n",
       "DAY                    0\n",
       "DAY_OF_WEEK            0\n",
       "AIRLINE                0\n",
       "FLIGHT_NUMBER          0\n",
       "TAIL_NUMBER            0\n",
       "ORIGIN_AIRPORT         0\n",
       "DESTINATION_AIRPORT    0\n",
       "SCHEDULED_DEPARTURE    0\n",
       "DEPARTURE_TIME         0\n",
       "DEPARTURE_DELAY        0\n",
       "TAXI_OUT               0\n",
       "WHEELS_OFF             0\n",
       "SCHEDULED_TIME         0\n",
       "ELAPSED_TIME           0\n",
       "AIR_TIME               0\n",
       "DISTANCE               0\n",
       "WHEELS_ON              0\n",
       "TAXI_IN                0\n",
       "SCHEDULED_ARRIVAL      0\n",
       "ARRIVAL_TIME           0\n",
       "ARRIVAL_DELAY          0\n",
       "DIVERTED               0\n",
       "CANCELLED              0\n",
       "dtype: int64"
      ]
     },
     "execution_count": 21,
     "metadata": {},
     "output_type": "execute_result"
    }
   ],
   "source": [
    "missing = df.isnull().sum()\n",
    "missing"
   ]
  },
  {
   "cell_type": "code",
   "execution_count": 22,
   "metadata": {},
   "outputs": [],
   "source": [
    "df.drop(\"DIVERTED\", axis=1, inplace = True)\n"
   ]
  },
  {
   "cell_type": "code",
   "execution_count": 23,
   "metadata": {},
   "outputs": [],
   "source": [
    "df.drop(\"CANCELLED\",axis=1, inplace = True)"
   ]
  },
  {
   "cell_type": "code",
   "execution_count": 24,
   "metadata": {},
   "outputs": [
    {
     "data": {
      "text/plain": [
       "YEAR                   0\n",
       "MONTH                  0\n",
       "DAY                    0\n",
       "DAY_OF_WEEK            0\n",
       "AIRLINE                0\n",
       "FLIGHT_NUMBER          0\n",
       "TAIL_NUMBER            0\n",
       "ORIGIN_AIRPORT         0\n",
       "DESTINATION_AIRPORT    0\n",
       "SCHEDULED_DEPARTURE    0\n",
       "DEPARTURE_TIME         0\n",
       "DEPARTURE_DELAY        0\n",
       "TAXI_OUT               0\n",
       "WHEELS_OFF             0\n",
       "SCHEDULED_TIME         0\n",
       "ELAPSED_TIME           0\n",
       "AIR_TIME               0\n",
       "DISTANCE               0\n",
       "WHEELS_ON              0\n",
       "TAXI_IN                0\n",
       "SCHEDULED_ARRIVAL      0\n",
       "ARRIVAL_TIME           0\n",
       "ARRIVAL_DELAY          0\n",
       "dtype: int64"
      ]
     },
     "execution_count": 24,
     "metadata": {},
     "output_type": "execute_result"
    }
   ],
   "source": [
    "missing = df.isnull().sum()\n",
    "missing"
   ]
  },
  {
   "cell_type": "code",
   "execution_count": 25,
   "metadata": {},
   "outputs": [
    {
     "data": {
      "text/plain": [
       "(19944, 23)"
      ]
     },
     "execution_count": 25,
     "metadata": {},
     "output_type": "execute_result"
    }
   ],
   "source": [
    "df.shape"
   ]
  },
  {
   "cell_type": "code",
   "execution_count": 26,
   "metadata": {},
   "outputs": [
    {
     "name": "stdout",
     "output_type": "stream",
     "text": [
      "4598004     1\n",
      "491375      2\n",
      "2543790     3\n",
      "2973281     1\n",
      "5255884     4\n",
      "           ..\n",
      "4262931    11\n",
      "4634520     9\n",
      "3306525     1\n",
      "4707888     4\n",
      "2453393     1\n",
      "Name: AIRLINE, Length: 19944, dtype: int64\n"
     ]
    }
   ],
   "source": [
    "df['AIRLINE'] = pd.factorize(df.AIRLINE)[0] + 1\n",
    "print (df['AIRLINE'])"
   ]
  },
  {
   "cell_type": "code",
   "execution_count": 27,
   "metadata": {},
   "outputs": [],
   "source": [
    "df['TAIL_NUMBER'] = pd.factorize(df.TAIL_NUMBER)[0] + 1\n",
    "\n",
    "df['ORIGIN_AIRPORT'] = pd.factorize(df.ORIGIN_AIRPORT)[0] + 1\n",
    "\n",
    "df['DESTINATION_AIRPORT'] = pd.factorize(df.DESTINATION_AIRPORT)[0] + 1\n"
   ]
  },
  {
   "cell_type": "code",
   "execution_count": 28,
   "metadata": {},
   "outputs": [
    {
     "data": {
      "text/plain": [
       "347     18\n",
       "1234    16\n",
       "896     16\n",
       "1302    14\n",
       "1467    14\n",
       "        ..\n",
       "3052     1\n",
       "3168     1\n",
       "3606     1\n",
       "3590     1\n",
       "3493     1\n",
       "Name: TAIL_NUMBER, Length: 4260, dtype: int64"
      ]
     },
     "execution_count": 28,
     "metadata": {},
     "output_type": "execute_result"
    }
   ],
   "source": [
    "df['TAIL_NUMBER'].value_counts()"
   ]
  },
  {
   "cell_type": "markdown",
   "metadata": {},
   "source": [
    "## DATA VISUALISATION"
   ]
  },
  {
   "cell_type": "code",
   "execution_count": 29,
   "metadata": {},
   "outputs": [
    {
     "data": {
      "text/plain": [
       "<matplotlib.axes._subplots.AxesSubplot at 0x1675ef9e9d0>"
      ]
     },
     "execution_count": 29,
     "metadata": {},
     "output_type": "execute_result"
    },
    {
     "data": {
      "image/png": "[encoded data removed]",
      "text/plain": [
       "<Figure size 432x288 with 1 Axes>"
      ]
     },
     "metadata": {
      "needs_background": "light"
     },
     "output_type": "display_data"
    }
   ],
   "source": [
    "import seaborn as sns\n",
    "sns.boxplot(x=df['DEPARTURE_TIME'])\n"
   ]
  },
  {
   "cell_type": "code",
   "execution_count": 30,
   "metadata": {},
   "outputs": [
    {
     "data": {
      "text/plain": [
       "<matplotlib.axes._subplots.AxesSubplot at 0x1675b6a9c40>"
      ]
     },
     "execution_count": 30,
     "metadata": {},
     "output_type": "execute_result"
    },
    {
     "data": {
      "image/png": "[encoded data removed]",
      "text/plain": [
       "<Figure size 1800x720 with 2 Axes>"
      ]
     },
     "metadata": {
      "needs_background": "light"
     },
     "output_type": "display_data"
    }
   ],
   "source": [
    "import missingno as msno\n",
    "msno.matrix(df)"
   ]
  },
  {
   "cell_type": "code",
   "execution_count": 31,
   "metadata": {},
   "outputs": [
    {
     "data": {
      "image/png": "[encoded data removed]",
      "text/plain": [
       "<Figure size 1440x1080 with 25 Axes>"
      ]
     },
     "metadata": {
      "needs_background": "light"
     },
     "output_type": "display_data"
    }
   ],
   "source": [
    "num_bins = 15\n",
    "\n",
    "df.hist(bins=num_bins, figsize=(20,15))\n",
    "plt.savefig(\"histogram_plots\")\n",
    "plt.show()"
   ]
  },
  {
   "cell_type": "code",
   "execution_count": 32,
   "metadata": {
    "scrolled": true
   },
   "outputs": [
    {
     "data": {
      "image/png": "[encoded data removed]",
      "text/plain": [
       "<Figure size 864x360 with 1 Axes>"
      ]
     },
     "metadata": {
      "needs_background": "light"
     },
     "output_type": "display_data"
    }
   ],
   "source": [
    "plt.figure(figsize=(12,5))\n",
    "sns.distplot(df[\"DEPARTURE_DELAY\"][df[\"ARRIVAL_DELAY\"]==0])\n",
    "sns.distplot(df[\"DEPARTURE_DELAY\"][df[\"ARRIVAL_DELAY\"]==1])\n",
    "plt.legend(['0','1'])\n",
    "plt.show()"
   ]
  },
  {
   "cell_type": "markdown",
   "metadata": {},
   "source": [
    "## FEATURE SELECTION\n"
   ]
  },
  {
   "cell_type": "code",
   "execution_count": 33,
   "metadata": {},
   "outputs": [],
   "source": [
    "from pandas import read_csv\n",
    "from sklearn.feature_selection import RFE\n",
    "from sklearn.linear_model import LogisticRegression\n",
    "from sklearn.ensemble import ExtraTreesClassifier\n",
    "from sklearn.feature_selection import RFE\n",
    "from sklearn.linear_model import LogisticRegression"
   ]
  },
  {
   "cell_type": "code",
   "execution_count": 34,
   "metadata": {},
   "outputs": [],
   "source": [
    "array = df.values\n",
    "X = array[:,0:23]\n",
    "Y = array[:,22]"
   ]
  },
  {
   "cell_type": "code",
   "execution_count": 35,
   "metadata": {},
   "outputs": [
    {
     "data": {
      "text/plain": [
       "array([ -4., -13.,   2., ...,  14.,  -1.,  -4.])"
      ]
     },
     "execution_count": 35,
     "metadata": {},
     "output_type": "execute_result"
    }
   ],
   "source": [
    "Y"
   ]
  },
  {
   "cell_type": "markdown",
   "metadata": {},
   "source": [
    "### FEATURE IMPORTANCE\n"
   ]
  },
  {
   "cell_type": "code",
   "execution_count": 36,
   "metadata": {},
   "outputs": [
    {
     "name": "stdout",
     "output_type": "stream",
     "text": [
      "[0.         0.03917781 0.04175618 0.03813846 0.03403669 0.04112446\n",
      " 0.0425788  0.03966477 0.03981283 0.03951414 0.03974009 0.04994759\n",
      " 0.04342958 0.04036886 0.04117586 0.04208887 0.04130688 0.03972432\n",
      " 0.04090363 0.04063565 0.04054992 0.04071356 0.14361105]\n"
     ]
    }
   ],
   "source": [
    "model = ExtraTreesClassifier()\n",
    "model.fit(X, Y)\n",
    "print(model.feature_importances_)"
   ]
  },
  {
   "cell_type": "markdown",
   "metadata": {},
   "source": [
    "### Recursive Feature Elimination"
   ]
  },
  {
   "cell_type": "code",
   "execution_count": 37,
   "metadata": {},
   "outputs": [],
   "source": [
    "model = LogisticRegression()\n",
    "rfe = RFE(model, 16)\n",
    "fit = rfe.fit(X, Y)"
   ]
  },
  {
   "cell_type": "code",
   "execution_count": 38,
   "metadata": {},
   "outputs": [
    {
     "name": "stdout",
     "output_type": "stream",
     "text": [
      "Num Features:  16\n",
      "Selected Features:  [ True False False False False  True  True  True  True  True  True  True\n",
      " False  True  True  True False  True  True False  True  True  True]\n",
      "Feature Ranking:  [1 6 5 8 7 1 1 1 1 1 1 1 3 1 1 1 2 1 1 4 1 1 1]\n"
     ]
    }
   ],
   "source": [
    "print(\"Num Features: \", fit.n_features_) \n",
    "print(\"Selected Features: \",fit.support_) \n",
    "print(\"Feature Ranking: \", fit.ranking_) "
   ]
  },
  {
   "cell_type": "code",
   "execution_count": 39,
   "metadata": {},
   "outputs": [],
   "source": [
    "df_selected = df[['YEAR','FLIGHT_NUMBER','TAIL_NUMBER','ORIGIN_AIRPORT','DESTINATION_AIRPORT','SCHEDULED_DEPARTURE','DEPARTURE_TIME','DEPARTURE_DELAY','WHEELS_OFF','ELAPSED_TIME','AIR_TIME','DISTANCE','WHEELS_ON','SCHEDULED_ARRIVAL','ARRIVAL_TIME','ARRIVAL_DELAY']].copy()"
   ]
  },
  {
   "cell_type": "code",
   "execution_count": 40,
   "metadata": {},
   "outputs": [
    {
     "data": {
      "text/html": [
       "<div>\n",
       "<style scoped>\n",
       "    .dataframe tbody tr th:only-of-type {\n",
       "        vertical-align: middle;\n",
       "    }\n",
       "\n",
       "    .dataframe tbody tr th {\n",
       "        vertical-align: top;\n",
       "    }\n",
       "\n",
       "    .dataframe thead th {\n",
       "        text-align: right;\n",
       "    }\n",
       "</style>\n",
       "<table border=\"1\" class=\"dataframe\">\n",
       "  <thead>\n",
       "    <tr style=\"text-align: right;\">\n",
       "      <th></th>\n",
       "      <th>YEAR</th>\n",
       "      <th>FLIGHT_NUMBER</th>\n",
       "      <th>TAIL_NUMBER</th>\n",
       "      <th>ORIGIN_AIRPORT</th>\n",
       "      <th>DESTINATION_AIRPORT</th>\n",
       "      <th>SCHEDULED_DEPARTURE</th>\n",
       "      <th>DEPARTURE_TIME</th>\n",
       "      <th>DEPARTURE_DELAY</th>\n",
       "      <th>WHEELS_OFF</th>\n",
       "      <th>ELAPSED_TIME</th>\n",
       "      <th>AIR_TIME</th>\n",
       "      <th>DISTANCE</th>\n",
       "      <th>WHEELS_ON</th>\n",
       "      <th>SCHEDULED_ARRIVAL</th>\n",
       "      <th>ARRIVAL_TIME</th>\n",
       "      <th>ARRIVAL_DELAY</th>\n",
       "    </tr>\n",
       "  </thead>\n",
       "  <tbody>\n",
       "    <tr>\n",
       "      <th>4598004</th>\n",
       "      <td>2015</td>\n",
       "      <td>1894</td>\n",
       "      <td>1</td>\n",
       "      <td>1</td>\n",
       "      <td>1</td>\n",
       "      <td>1205</td>\n",
       "      <td>1204</td>\n",
       "      <td>-1</td>\n",
       "      <td>1225</td>\n",
       "      <td>257</td>\n",
       "      <td>232</td>\n",
       "      <td>2036</td>\n",
       "      <td>1917</td>\n",
       "      <td>1925</td>\n",
       "      <td>1921</td>\n",
       "      <td>-4</td>\n",
       "    </tr>\n",
       "    <tr>\n",
       "      <th>491375</th>\n",
       "      <td>2015</td>\n",
       "      <td>1320</td>\n",
       "      <td>2</td>\n",
       "      <td>2</td>\n",
       "      <td>2</td>\n",
       "      <td>1315</td>\n",
       "      <td>1315</td>\n",
       "      <td>0</td>\n",
       "      <td>1329</td>\n",
       "      <td>217</td>\n",
       "      <td>200</td>\n",
       "      <td>1735</td>\n",
       "      <td>1849</td>\n",
       "      <td>1905</td>\n",
       "      <td>1852</td>\n",
       "      <td>-13</td>\n",
       "    </tr>\n",
       "    <tr>\n",
       "      <th>2543790</th>\n",
       "      <td>2015</td>\n",
       "      <td>412</td>\n",
       "      <td>3</td>\n",
       "      <td>3</td>\n",
       "      <td>3</td>\n",
       "      <td>1240</td>\n",
       "      <td>1236</td>\n",
       "      <td>-4</td>\n",
       "      <td>1257</td>\n",
       "      <td>94</td>\n",
       "      <td>69</td>\n",
       "      <td>456</td>\n",
       "      <td>1406</td>\n",
       "      <td>1408</td>\n",
       "      <td>1410</td>\n",
       "      <td>2</td>\n",
       "    </tr>\n",
       "    <tr>\n",
       "      <th>2973281</th>\n",
       "      <td>2015</td>\n",
       "      <td>1539</td>\n",
       "      <td>4</td>\n",
       "      <td>4</td>\n",
       "      <td>4</td>\n",
       "      <td>1010</td>\n",
       "      <td>1009</td>\n",
       "      <td>-1</td>\n",
       "      <td>1021</td>\n",
       "      <td>154</td>\n",
       "      <td>136</td>\n",
       "      <td>1050</td>\n",
       "      <td>1337</td>\n",
       "      <td>1345</td>\n",
       "      <td>1343</td>\n",
       "      <td>-2</td>\n",
       "    </tr>\n",
       "    <tr>\n",
       "      <th>5255884</th>\n",
       "      <td>2015</td>\n",
       "      <td>433</td>\n",
       "      <td>5</td>\n",
       "      <td>5</td>\n",
       "      <td>5</td>\n",
       "      <td>1120</td>\n",
       "      <td>1117</td>\n",
       "      <td>-3</td>\n",
       "      <td>1132</td>\n",
       "      <td>122</td>\n",
       "      <td>101</td>\n",
       "      <td>651</td>\n",
       "      <td>1213</td>\n",
       "      <td>1235</td>\n",
       "      <td>1219</td>\n",
       "      <td>-16</td>\n",
       "    </tr>\n",
       "    <tr>\n",
       "      <th>...</th>\n",
       "      <td>...</td>\n",
       "      <td>...</td>\n",
       "      <td>...</td>\n",
       "      <td>...</td>\n",
       "      <td>...</td>\n",
       "      <td>...</td>\n",
       "      <td>...</td>\n",
       "      <td>...</td>\n",
       "      <td>...</td>\n",
       "      <td>...</td>\n",
       "      <td>...</td>\n",
       "      <td>...</td>\n",
       "      <td>...</td>\n",
       "      <td>...</td>\n",
       "      <td>...</td>\n",
       "      <td>...</td>\n",
       "    </tr>\n",
       "    <tr>\n",
       "      <th>4262931</th>\n",
       "      <td>2015</td>\n",
       "      <td>4769</td>\n",
       "      <td>699</td>\n",
       "      <td>99</td>\n",
       "      <td>58</td>\n",
       "      <td>845</td>\n",
       "      <td>845</td>\n",
       "      <td>0</td>\n",
       "      <td>902</td>\n",
       "      <td>108</td>\n",
       "      <td>86</td>\n",
       "      <td>601</td>\n",
       "      <td>928</td>\n",
       "      <td>941</td>\n",
       "      <td>933</td>\n",
       "      <td>-8</td>\n",
       "    </tr>\n",
       "    <tr>\n",
       "      <th>4634520</th>\n",
       "      <td>2015</td>\n",
       "      <td>4892</td>\n",
       "      <td>666</td>\n",
       "      <td>36</td>\n",
       "      <td>393</td>\n",
       "      <td>1526</td>\n",
       "      <td>1523</td>\n",
       "      <td>-3</td>\n",
       "      <td>1541</td>\n",
       "      <td>76</td>\n",
       "      <td>54</td>\n",
       "      <td>378</td>\n",
       "      <td>1635</td>\n",
       "      <td>1646</td>\n",
       "      <td>1639</td>\n",
       "      <td>-7</td>\n",
       "    </tr>\n",
       "    <tr>\n",
       "      <th>3306525</th>\n",
       "      <td>2015</td>\n",
       "      <td>1075</td>\n",
       "      <td>2588</td>\n",
       "      <td>46</td>\n",
       "      <td>161</td>\n",
       "      <td>2305</td>\n",
       "      <td>2329</td>\n",
       "      <td>24</td>\n",
       "      <td>2338</td>\n",
       "      <td>44</td>\n",
       "      <td>30</td>\n",
       "      <td>151</td>\n",
       "      <td>2308</td>\n",
       "      <td>2259</td>\n",
       "      <td>2313</td>\n",
       "      <td>14</td>\n",
       "    </tr>\n",
       "    <tr>\n",
       "      <th>4707888</th>\n",
       "      <td>2015</td>\n",
       "      <td>1810</td>\n",
       "      <td>2101</td>\n",
       "      <td>26</td>\n",
       "      <td>168</td>\n",
       "      <td>1105</td>\n",
       "      <td>1111</td>\n",
       "      <td>6</td>\n",
       "      <td>1131</td>\n",
       "      <td>136</td>\n",
       "      <td>105</td>\n",
       "      <td>728</td>\n",
       "      <td>1316</td>\n",
       "      <td>1328</td>\n",
       "      <td>1327</td>\n",
       "      <td>-1</td>\n",
       "    </tr>\n",
       "    <tr>\n",
       "      <th>2453393</th>\n",
       "      <td>2015</td>\n",
       "      <td>1611</td>\n",
       "      <td>2093</td>\n",
       "      <td>117</td>\n",
       "      <td>12</td>\n",
       "      <td>45</td>\n",
       "      <td>40</td>\n",
       "      <td>-5</td>\n",
       "      <td>54</td>\n",
       "      <td>207</td>\n",
       "      <td>188</td>\n",
       "      <td>1533</td>\n",
       "      <td>502</td>\n",
       "      <td>511</td>\n",
       "      <td>507</td>\n",
       "      <td>-4</td>\n",
       "    </tr>\n",
       "  </tbody>\n",
       "</table>\n",
       "<p>19944 rows × 16 columns</p>\n",
       "</div>"
      ],
      "text/plain": [
       "         YEAR  FLIGHT_NUMBER  TAIL_NUMBER  ORIGIN_AIRPORT  \\\n",
       "4598004  2015           1894            1               1   \n",
       "491375   2015           1320            2               2   \n",
       "2543790  2015            412            3               3   \n",
       "2973281  2015           1539            4               4   \n",
       "5255884  2015            433            5               5   \n",
       "...       ...            ...          ...             ...   \n",
       "4262931  2015           4769          699              99   \n",
       "4634520  2015           4892          666              36   \n",
       "3306525  2015           1075         2588              46   \n",
       "4707888  2015           1810         2101              26   \n",
       "2453393  2015           1611         2093             117   \n",
       "\n",
       "         DESTINATION_AIRPORT  SCHEDULED_DEPARTURE  DEPARTURE_TIME  \\\n",
       "4598004                    1                 1205            1204   \n",
       "491375                     2                 1315            1315   \n",
       "2543790                    3                 1240            1236   \n",
       "2973281                    4                 1010            1009   \n",
       "5255884                    5                 1120            1117   \n",
       "...                      ...                  ...             ...   \n",
       "4262931                   58                  845             845   \n",
       "4634520                  393                 1526            1523   \n",
       "3306525                  161                 2305            2329   \n",
       "4707888                  168                 1105            1111   \n",
       "2453393                   12                   45              40   \n",
       "\n",
       "         DEPARTURE_DELAY  WHEELS_OFF  ELAPSED_TIME  AIR_TIME  DISTANCE  \\\n",
       "4598004               -1        1225           257       232      2036   \n",
       "491375                 0        1329           217       200      1735   \n",
       "2543790               -4        1257            94        69       456   \n",
       "2973281               -1        1021           154       136      1050   \n",
       "5255884               -3        1132           122       101       651   \n",
       "...                  ...         ...           ...       ...       ...   \n",
       "4262931                0         902           108        86       601   \n",
       "4634520               -3        1541            76        54       378   \n",
       "3306525               24        2338            44        30       151   \n",
       "4707888                6        1131           136       105       728   \n",
       "2453393               -5          54           207       188      1533   \n",
       "\n",
       "         WHEELS_ON  SCHEDULED_ARRIVAL  ARRIVAL_TIME  ARRIVAL_DELAY  \n",
       "4598004       1917               1925          1921             -4  \n",
       "491375        1849               1905          1852            -13  \n",
       "2543790       1406               1408          1410              2  \n",
       "2973281       1337               1345          1343             -2  \n",
       "5255884       1213               1235          1219            -16  \n",
       "...            ...                ...           ...            ...  \n",
       "4262931        928                941           933             -8  \n",
       "4634520       1635               1646          1639             -7  \n",
       "3306525       2308               2259          2313             14  \n",
       "4707888       1316               1328          1327             -1  \n",
       "2453393        502                511           507             -4  \n",
       "\n",
       "[19944 rows x 16 columns]"
      ]
     },
     "execution_count": 40,
     "metadata": {},
     "output_type": "execute_result"
    }
   ],
   "source": [
    "df_selected"
   ]
  },
  {
   "cell_type": "markdown",
   "metadata": {},
   "source": [
    "### Classification Accuracy"
   ]
  },
  {
   "cell_type": "code",
   "execution_count": 41,
   "metadata": {},
   "outputs": [],
   "source": [
    "from sklearn.model_selection import KFold\n",
    "from sklearn.model_selection import cross_val_score\n",
    "from sklearn.linear_model import LogisticRegression"
   ]
  },
  {
   "cell_type": "code",
   "execution_count": 42,
   "metadata": {},
   "outputs": [],
   "source": [
    "kfold = KFold(n_splits=10, random_state=7)\n",
    "model = LogisticRegression()\n",
    "scoring = 'accuracy'\n",
    "results = cross_val_score(model, X, Y, cv=kfold, scoring=scoring) "
   ]
  },
  {
   "cell_type": "code",
   "execution_count": 43,
   "metadata": {},
   "outputs": [
    {
     "name": "stdout",
     "output_type": "stream",
     "text": [
      "Accuracy:  0.037054270581167066\n"
     ]
    }
   ],
   "source": [
    "print(\"Accuracy: \",results.mean())"
   ]
  },
  {
   "cell_type": "markdown",
   "metadata": {},
   "source": [
    "### Data Split"
   ]
  },
  {
   "cell_type": "code",
   "execution_count": 44,
   "metadata": {},
   "outputs": [],
   "source": [
    "from sklearn.model_selection import train_test_split\n",
    "from sklearn.linear_model import LogisticRegression"
   ]
  },
  {
   "cell_type": "code",
   "execution_count": 45,
   "metadata": {},
   "outputs": [
    {
     "name": "stdout",
     "output_type": "stream",
     "text": [
      "(15955, 23)\n",
      "(3989, 23)\n"
     ]
    }
   ],
   "source": [
    "test_size = 0.20\n",
    "seed = 7\n",
    "X_train, X_test, Y_train, Y_test = train_test_split(X, Y, test_size=test_size, random_state=seed)\n",
    "print (X_train.shape)\n",
    "print (X_test.shape)"
   ]
  },
  {
   "cell_type": "code",
   "execution_count": 46,
   "metadata": {},
   "outputs": [
    {
     "name": "stdout",
     "output_type": "stream",
     "text": [
      "Accuracy: 0.03685134118826774\n"
     ]
    }
   ],
   "source": [
    "model = LogisticRegression()\n",
    "model.fit(X_train, Y_train)\n",
    "result = model.score(X_test, Y_test)\n",
    "print(\"Accuracy:\",result)"
   ]
  },
  {
   "cell_type": "markdown",
   "metadata": {},
   "source": [
    "### Algoritm Dry Run"
   ]
  },
  {
   "cell_type": "markdown",
   "metadata": {},
   "source": [
    "#### Naive Bayes"
   ]
  },
  {
   "cell_type": "code",
   "execution_count": 47,
   "metadata": {},
   "outputs": [],
   "source": [
    "from sklearn.metrics import accuracy_score, f1_score, precision_score, recall_score, classification_report, confusion_matrix"
   ]
  },
  {
   "cell_type": "code",
   "execution_count": 48,
   "metadata": {},
   "outputs": [
    {
     "data": {
      "text/plain": [
       "GaussianNB()"
      ]
     },
     "execution_count": 48,
     "metadata": {},
     "output_type": "execute_result"
    }
   ],
   "source": [
    "from sklearn.naive_bayes import GaussianNB\n",
    "from sklearn.metrics import accuracy_score\n",
    "model = GaussianNB()\n",
    "model.fit(X_train, Y_train)"
   ]
  },
  {
   "cell_type": "code",
   "execution_count": 49,
   "metadata": {},
   "outputs": [
    {
     "name": "stdout",
     "output_type": "stream",
     "text": [
      "Accuracy = 98.47%\n"
     ]
    }
   ],
   "source": [
    "y_pred = model.predict(X_test)\n",
    "accuracy = accuracy_score(Y_test, y_pred)\n",
    "print(\"Accuracy = %.2f%%\" % (accuracy * 100.0))"
   ]
  },
  {
   "cell_type": "code",
   "execution_count": 50,
   "metadata": {},
   "outputs": [
    {
     "name": "stdout",
     "output_type": "stream",
     "text": [
      "F1 Score =  0.7143192918192919\n",
      "Precision Score =  0.7074900793650793\n",
      "Recall Score =  0.7340277777777777\n"
     ]
    }
   ],
   "source": [
    "print(\"F1 Score = \", f1_score(Y_test, y_pred, average=\"macro\"))\n",
    "print(\"Precision Score = \", precision_score(Y_test, y_pred, average=\"macro\"))\n",
    "print(\"Recall Score = \",recall_score(Y_test, y_pred, average=\"macro\"))"
   ]
  },
  {
   "cell_type": "markdown",
   "metadata": {},
   "source": [
    "#### KNN"
   ]
  },
  {
   "cell_type": "code",
   "execution_count": 51,
   "metadata": {},
   "outputs": [],
   "source": [
    "from sklearn.neighbors import KNeighborsRegressor"
   ]
  },
  {
   "cell_type": "code",
   "execution_count": 52,
   "metadata": {},
   "outputs": [],
   "source": [
    "model=KNeighborsRegressor()\n",
    "model.fit(X,Y)\n",
    "kfold = KFold(n_splits=10, random_state=10, shuffle=True)\n",
    "results = cross_val_score(model, X, Y, cv=kfold)"
   ]
  },
  {
   "cell_type": "code",
   "execution_count": 53,
   "metadata": {},
   "outputs": [
    {
     "name": "stdout",
     "output_type": "stream",
     "text": [
      "0.3447789895565327\n"
     ]
    }
   ],
   "source": [
    "print(results.mean())"
   ]
  },
  {
   "cell_type": "markdown",
   "metadata": {},
   "source": [
    "#### SVM"
   ]
  },
  {
   "cell_type": "code",
   "execution_count": 54,
   "metadata": {},
   "outputs": [],
   "source": [
    "from sklearn.svm import SVC\n"
   ]
  },
  {
   "cell_type": "code",
   "execution_count": 55,
   "metadata": {},
   "outputs": [
    {
     "data": {
      "text/plain": [
       "SVC()"
      ]
     },
     "execution_count": 55,
     "metadata": {},
     "output_type": "execute_result"
    }
   ],
   "source": [
    "model = SVC()              \n",
    "model.fit(X_train, Y_train)"
   ]
  },
  {
   "cell_type": "code",
   "execution_count": 56,
   "metadata": {},
   "outputs": [
    {
     "name": "stdout",
     "output_type": "stream",
     "text": [
      "Accuracy = 4.04%\n"
     ]
    }
   ],
   "source": [
    "y_pred = model.predict(X_test)\n",
    "accuracy = accuracy_score(Y_test, y_pred)\n",
    "print(\"Accuracy = %.2f%%\" % (accuracy * 100.0))"
   ]
  },
  {
   "cell_type": "code",
   "execution_count": 57,
   "metadata": {},
   "outputs": [
    {
     "name": "stdout",
     "output_type": "stream",
     "text": [
      "F1 Score =  0.0016877698518903642\n",
      "Precision Score =  0.0018007621449517863\n",
      "Recall Score =  0.005942116294063292\n"
     ]
    }
   ],
   "source": [
    "print(\"F1 Score = \", f1_score(Y_test, y_pred, average=\"macro\"))\n",
    "print(\"Precision Score = \", precision_score(Y_test, y_pred, average=\"macro\"))\n",
    "print(\"Recall Score = \",recall_score(Y_test, y_pred, average=\"macro\"))"
   ]
  },
  {
   "cell_type": "markdown",
   "metadata": {},
   "source": [
    "#### CART"
   ]
  },
  {
   "cell_type": "code",
   "execution_count": 58,
   "metadata": {},
   "outputs": [],
   "source": [
    "from sklearn.model_selection import KFold\n",
    "from sklearn.model_selection import cross_val_score\n",
    "from sklearn.tree import DecisionTreeClassifier"
   ]
  },
  {
   "cell_type": "code",
   "execution_count": 59,
   "metadata": {},
   "outputs": [
    {
     "data": {
      "text/plain": [
       "DecisionTreeClassifier()"
      ]
     },
     "execution_count": 59,
     "metadata": {},
     "output_type": "execute_result"
    }
   ],
   "source": [
    "Kfold = KFold(n_splits=10, random_state=7)\n",
    "model = DecisionTreeClassifier()\n",
    "model.fit(X_train, Y_train)\n"
   ]
  },
  {
   "cell_type": "code",
   "execution_count": 60,
   "metadata": {},
   "outputs": [
    {
     "name": "stdout",
     "output_type": "stream",
     "text": [
      "Accuracy = 98.87%\n"
     ]
    }
   ],
   "source": [
    "y_pred = model.predict(X_test)\n",
    "accuracy = accuracy_score(Y_test, y_pred)\n",
    "print(\"Accuracy = %.2f%%\" % (accuracy * 100.0))"
   ]
  },
  {
   "cell_type": "code",
   "execution_count": 61,
   "metadata": {},
   "outputs": [
    {
     "name": "stdout",
     "output_type": "stream",
     "text": [
      "F1 Score =  0.7479674796747967\n",
      "Precision Score =  0.7479674796747967\n",
      "Recall Score =  0.7527100271002711\n"
     ]
    }
   ],
   "source": [
    "print(\"F1 Score = \", f1_score(Y_test, y_pred, average=\"macro\"))\n",
    "print(\"Precision Score = \", precision_score(Y_test, y_pred, average=\"macro\"))\n",
    "print(\"Recall Score = \",recall_score(Y_test, y_pred, average=\"macro\"))"
   ]
  },
  {
   "cell_type": "markdown",
   "metadata": {},
   "source": [
    "### DATA VIZUALISATION"
   ]
  },
  {
   "cell_type": "code",
   "execution_count": 62,
   "metadata": {},
   "outputs": [],
   "source": [
    "from matplotlib import pyplot"
   ]
  },
  {
   "cell_type": "code",
   "execution_count": 63,
   "metadata": {},
   "outputs": [],
   "source": [
    "plt.rcParams[\"figure.figsize\"]=22,22"
   ]
  },
  {
   "cell_type": "code",
   "execution_count": 64,
   "metadata": {},
   "outputs": [
    {
     "data": {
      "image/png": "[encoded data removed]",
      "text/plain": [
       "<Figure size 1584x1584 with 16 Axes>"
      ]
     },
     "metadata": {
      "needs_background": "light"
     },
     "output_type": "display_data"
    }
   ],
   "source": [
    "df_selected.hist(bins=10, color='#01595C', zorder=2, rwidth=0.8)\n",
    "pyplot.show()"
   ]
  },
  {
   "cell_type": "code",
   "execution_count": 65,
   "metadata": {},
   "outputs": [],
   "source": [
    "import seaborn as sns"
   ]
  },
  {
   "cell_type": "code",
   "execution_count": 66,
   "metadata": {},
   "outputs": [
    {
     "data": {
      "image/png": "[encoded data removed]",
      "text/plain": [
       "<Figure size 2880x1440 with 2 Axes>"
      ]
     },
     "metadata": {
      "needs_background": "light"
     },
     "output_type": "display_data"
    }
   ],
   "source": [
    "fig, ax = plt.subplots(figsize=(40,20))         \n",
    "corr = df_selected.corr()\n",
    "sns.heatmap(corr, cmap='YlGnBu', annot_kws={'size':30}, ax=ax)\n",
    "ax.set_title(\"Imbalanced Correlation Matrix\", fontsize=14)\n",
    "plt.show()"
   ]
  },
  {
   "cell_type": "code",
   "execution_count": 67,
   "metadata": {},
   "outputs": [
    {
     "data": {
      "image/png": "[encoded data removed]",
      "text/plain": [
       "<Figure size 1584x1584 with 1 Axes>"
      ]
     },
     "metadata": {
      "needs_background": "light"
     },
     "output_type": "display_data"
    }
   ],
   "source": [
    "df_selected['ARRIVAL_DELAY'].hist(bins=10, color='#01595C', zorder=2, rwidth=0.8)\n",
    "pyplot.show()"
   ]
  },
  {
   "cell_type": "code",
   "execution_count": 68,
   "metadata": {},
   "outputs": [
    {
     "data": {
      "text/plain": [
       " 4      660\n",
       "-8      625\n",
       "-10     597\n",
       "-9      574\n",
       "-11     571\n",
       "       ... \n",
       " 184      1\n",
       " 280      1\n",
       " 328      1\n",
       " 664      1\n",
       " 279      1\n",
       "Name: ARRIVAL_DELAY, Length: 337, dtype: int64"
      ]
     },
     "execution_count": 68,
     "metadata": {},
     "output_type": "execute_result"
    }
   ],
   "source": [
    "df_selected['ARRIVAL_DELAY'].value_counts()\n"
   ]
  },
  {
   "cell_type": "markdown",
   "metadata": {},
   "source": [
    "### Random Forest"
   ]
  },
  {
   "cell_type": "code",
   "execution_count": 69,
   "metadata": {},
   "outputs": [],
   "source": [
    "from sklearn.ensemble import RandomForestClassifier"
   ]
  },
  {
   "cell_type": "code",
   "execution_count": 70,
   "metadata": {},
   "outputs": [
    {
     "data": {
      "text/plain": [
       "RandomForestClassifier(max_features=16)"
      ]
     },
     "execution_count": 70,
     "metadata": {},
     "output_type": "execute_result"
    }
   ],
   "source": [
    "num_trees = 100\n",
    "max_features = 16\n",
    "kfold = KFold(n_splits=10, random_state=7)\n",
    "model = RandomForestClassifier(n_estimators=num_trees, max_features=max_features)\n",
    "model.fit(X_train, Y_train)\n"
   ]
  },
  {
   "cell_type": "code",
   "execution_count": 71,
   "metadata": {},
   "outputs": [
    {
     "name": "stdout",
     "output_type": "stream",
     "text": [
      "Accuracy = 97.02%\n"
     ]
    }
   ],
   "source": [
    "y_pred = model.predict(X_test)\n",
    "accuracy = accuracy_score(Y_test, y_pred)\n",
    "print(\"Accuracy = %.2f%%\" % (accuracy * 100.0))"
   ]
  },
  {
   "cell_type": "code",
   "execution_count": 72,
   "metadata": {},
   "outputs": [
    {
     "name": "stdout",
     "output_type": "stream",
     "text": [
      "F1 Score =  0.6286360361725506\n",
      "Precision Score =  0.6350419935599484\n",
      "Recall Score =  0.6407021769418727\n"
     ]
    }
   ],
   "source": [
    "print(\"F1 Score = \", f1_score(Y_test, y_pred, average=\"macro\"))\n",
    "print(\"Precision Score = \", precision_score(Y_test, y_pred, average=\"macro\"))\n",
    "print(\"Recall Score = \",recall_score(Y_test, y_pred, average=\"macro\"))"
   ]
  },
  {
   "cell_type": "markdown",
   "metadata": {},
   "source": [
    "### RF CLASSIFIER"
   ]
  },
  {
   "cell_type": "code",
   "execution_count": 73,
   "metadata": {},
   "outputs": [],
   "source": [
    "from sklearn.model_selection import cross_val_score\n",
    "from sklearn.ensemble import RandomForestClassifier\n",
    "rfc =  RandomForestClassifier(n_estimators=500, n_jobs=-1, random_state=7, min_samples_leaf=5)"
   ]
  },
  {
   "cell_type": "code",
   "execution_count": 74,
   "metadata": {},
   "outputs": [
    {
     "name": "stdout",
     "output_type": "stream",
     "text": [
      "Accuracy = 65.86%\n"
     ]
    }
   ],
   "source": [
    "rfc.fit(X_train, Y_train)\n",
    "y_pred = rfc.predict(X_test)\n",
    "accuracy = accuracy_score(Y_test, y_pred)\n",
    "print(\"Accuracy = %.2f%%\" % (accuracy * 100.0))"
   ]
  },
  {
   "cell_type": "code",
   "execution_count": 75,
   "metadata": {},
   "outputs": [],
   "source": [
    "from sklearn.metrics import accuracy_score, f1_score, precision_score, recall_score, classification_report, confusion_matrix"
   ]
  },
  {
   "cell_type": "code",
   "execution_count": 76,
   "metadata": {},
   "outputs": [
    {
     "name": "stdout",
     "output_type": "stream",
     "text": [
      "F1 Score =  0.15616078441240713\n",
      "Precision Score =  0.1646651393032258\n",
      "Recall Score =  0.16091781284771\n"
     ]
    }
   ],
   "source": [
    "print(\"F1 Score = \", f1_score(Y_test, y_pred, average=\"macro\"))\n",
    "print(\"Precision Score = \", precision_score(Y_test, y_pred, average=\"macro\"))\n",
    "print(\"Recall Score = \",recall_score(Y_test, y_pred, average=\"macro\"))"
   ]
  },
  {
   "cell_type": "markdown",
   "metadata": {},
   "source": [
    "### LGBM"
   ]
  },
  {
   "cell_type": "code",
   "execution_count": 77,
   "metadata": {},
   "outputs": [
    {
     "data": {
      "text/plain": [
       "LGBMClassifier(colsample_bytree=0.5, max_depth=2, random_state=7)"
      ]
     },
     "execution_count": 77,
     "metadata": {},
     "output_type": "execute_result"
    }
   ],
   "source": [
    "from lightgbm import LGBMClassifier\n",
    "lgbmc = LGBMClassifier(random_state=7, n_estimators=100, colsample_bytree=0.5, \n",
    "                       max_depth=2, learning_rate=0.1, boosting_type='gbdt')\n",
    "lgbmc.fit(X_train, Y_train)"
   ]
  },
  {
   "cell_type": "code",
   "execution_count": 78,
   "metadata": {},
   "outputs": [
    {
     "name": "stdout",
     "output_type": "stream",
     "text": [
      "Accuracy = 2.43%\n"
     ]
    }
   ],
   "source": [
    "y_pred = lgbmc.predict(X_test)\n",
    "from sklearn.metrics import confusion_matrix\n",
    "accuracy = accuracy_score(Y_test, y_pred)\n",
    "print(\"Accuracy = %.2f%%\" % (accuracy * 100.0))"
   ]
  },
  {
   "cell_type": "code",
   "execution_count": 79,
   "metadata": {},
   "outputs": [
    {
     "name": "stdout",
     "output_type": "stream",
     "text": [
      "F1 Score =  0.0007350409337455966\n",
      "Precision Score =  0.0011962738663246276\n",
      "Recall Score =  0.008431915745111294\n"
     ]
    }
   ],
   "source": [
    "print(\"F1 Score = \", f1_score(Y_test, y_pred, average=\"macro\"))\n",
    "print(\"Precision Score = \", precision_score(Y_test, y_pred, average=\"macro\"))\n",
    "print(\"Recall Score = \",recall_score(Y_test, y_pred, average=\"macro\"))"
   ]
  },
  {
   "cell_type": "markdown",
   "metadata": {},
   "source": [
    "### BAGGED DECISION TREE"
   ]
  },
  {
   "cell_type": "code",
   "execution_count": 80,
   "metadata": {},
   "outputs": [],
   "source": [
    "from sklearn.ensemble import BaggingClassifier"
   ]
  },
  {
   "cell_type": "code",
   "execution_count": 81,
   "metadata": {},
   "outputs": [],
   "source": [
    "Seed = 10\n",
    "kfold = KFold(n_splits=10, random_state=seed)\n",
    "cart = DecisionTreeClassifier()\n",
    "num_trees = 100"
   ]
  },
  {
   "cell_type": "code",
   "execution_count": 82,
   "metadata": {},
   "outputs": [],
   "source": [
    "model = BaggingClassifier(base_estimator=cart, n_estimators=num_trees, random_state=seed)"
   ]
  },
  {
   "cell_type": "code",
   "execution_count": 83,
   "metadata": {},
   "outputs": [
    {
     "data": {
      "text/plain": [
       "BaggingClassifier(base_estimator=DecisionTreeClassifier(), n_estimators=100,\n",
       "                  random_state=7)"
      ]
     },
     "execution_count": 83,
     "metadata": {},
     "output_type": "execute_result"
    }
   ],
   "source": [
    "model.fit(X_train, Y_train)"
   ]
  },
  {
   "cell_type": "code",
   "execution_count": 84,
   "metadata": {},
   "outputs": [
    {
     "name": "stdout",
     "output_type": "stream",
     "text": [
      "Accuracy = 98.72%\n"
     ]
    }
   ],
   "source": [
    "y_pred = model.predict(X_test)\n",
    "accuracy = accuracy_score(Y_test, y_pred)\n",
    "print(\"Accuracy = %.2f%%\" % (accuracy * 100.0))"
   ]
  },
  {
   "cell_type": "code",
   "execution_count": 85,
   "metadata": {},
   "outputs": [
    {
     "name": "stdout",
     "output_type": "stream",
     "text": [
      "F1 Score =  0.7203619047619048\n",
      "Precision Score =  0.7176666666666667\n",
      "Recall Score =  0.7273333333333333\n"
     ]
    }
   ],
   "source": [
    "print(\"F1 Score = \", f1_score(Y_test, y_pred, average=\"macro\"))\n",
    "print(\"Precision Score = \", precision_score(Y_test, y_pred, average=\"macro\"))\n",
    "print(\"Recall Score = \",recall_score(Y_test, y_pred, average=\"macro\"))"
   ]
  },
  {
   "cell_type": "markdown",
   "metadata": {},
   "source": [
    "### LINEAR RIGRESSION"
   ]
  },
  {
   "cell_type": "code",
   "execution_count": 86,
   "metadata": {},
   "outputs": [],
   "source": [
    "from sklearn.linear_model import LinearRegression"
   ]
  },
  {
   "cell_type": "code",
   "execution_count": 87,
   "metadata": {},
   "outputs": [
    {
     "data": {
      "text/plain": [
       "LinearRegression()"
      ]
     },
     "execution_count": 87,
     "metadata": {},
     "output_type": "execute_result"
    }
   ],
   "source": [
    "model = LinearRegression()\n",
    "model.fit(X_train,Y_train)"
   ]
  },
  {
   "cell_type": "code",
   "execution_count": 88,
   "metadata": {},
   "outputs": [
    {
     "data": {
      "text/plain": [
       "array([ 59.,   7., -18., ...,  -9., -16., 143.])"
      ]
     },
     "execution_count": 88,
     "metadata": {},
     "output_type": "execute_result"
    }
   ],
   "source": [
    "y_pred = model.predict(X_test)\n",
    "y_pred"
   ]
  },
  {
   "cell_type": "code",
   "execution_count": 89,
   "metadata": {},
   "outputs": [],
   "source": [
    "from sklearn import metrics"
   ]
  },
  {
   "cell_type": "code",
   "execution_count": 90,
   "metadata": {},
   "outputs": [
    {
     "name": "stdout",
     "output_type": "stream",
     "text": [
      "Mean Absolute Error: 1.2660791692259795e-13\n"
     ]
    }
   ],
   "source": [
    "print('Mean Absolute Error:', metrics.mean_absolute_error(Y_test, y_pred))"
   ]
  },
  {
   "cell_type": "markdown",
   "metadata": {},
   "source": [
    "### DECISION TREE"
   ]
  },
  {
   "cell_type": "code",
   "execution_count": 91,
   "metadata": {},
   "outputs": [
    {
     "data": {
      "text/plain": [
       "DecisionTreeClassifier()"
      ]
     },
     "execution_count": 91,
     "metadata": {},
     "output_type": "execute_result"
    }
   ],
   "source": [
    "from sklearn import tree\n",
    "model = tree.DecisionTreeClassifier()\n",
    "model.fit(X_train, Y_train)"
   ]
  },
  {
   "cell_type": "code",
   "execution_count": 92,
   "metadata": {},
   "outputs": [
    {
     "name": "stdout",
     "output_type": "stream",
     "text": [
      "Accuracy = 98.85%\n"
     ]
    }
   ],
   "source": [
    "a = accuracy_score(Y_test, model.predict(X_test))\n",
    "print(\"Accuracy = %.2f%%\" % (a * 100.0))"
   ]
  },
  {
   "cell_type": "code",
   "execution_count": 93,
   "metadata": {},
   "outputs": [],
   "source": [
    "y_pred = model.predict(X_test)"
   ]
  },
  {
   "cell_type": "code",
   "execution_count": 94,
   "metadata": {},
   "outputs": [
    {
     "name": "stdout",
     "output_type": "stream",
     "text": [
      "F1 Score =  0.7445344129554656\n",
      "Precision Score =  0.7456140350877193\n",
      "Recall Score =  0.7469635627530364\n"
     ]
    }
   ],
   "source": [
    "print(\"F1 Score = \", f1_score(Y_test, y_pred, average=\"macro\"))\n",
    "print(\"Precision Score = \", precision_score(Y_test, y_pred, average=\"macro\"))\n",
    "print(\"Recall Score = \",recall_score(Y_test, y_pred, average=\"macro\"))"
   ]
  },
  {
   "cell_type": "markdown",
   "metadata": {},
   "source": [
    "###  XGB Classifier"
   ]
  },
  {
   "cell_type": "code",
   "execution_count": 95,
   "metadata": {},
   "outputs": [],
   "source": [
    "from numpy import loadtxt\n",
    "from xgboost import XGBClassifier\n",
    "from sklearn.model_selection import train_test_split\n",
    "from sklearn.metrics import accuracy_score"
   ]
  },
  {
   "cell_type": "code",
   "execution_count": 96,
   "metadata": {},
   "outputs": [
    {
     "name": "stdout",
     "output_type": "stream",
     "text": [
      "[19:15:36] WARNING: C:/Users/Administrator/workspace/xgboost-win64_release_1.3.0/src/learner.cc:1061: Starting in XGBoost 1.3.0, the default evaluation metric used with the objective 'multi:softprob' was changed from 'merror' to 'mlogloss'. Explicitly set eval_metric if you'd like to restore the old behavior.\n"
     ]
    },
    {
     "data": {
      "text/plain": [
       "XGBClassifier(base_score=0.5, booster='gbtree', colsample_bylevel=1,\n",
       "              colsample_bynode=1, colsample_bytree=1, gamma=0, gpu_id=-1,\n",
       "              importance_type='gain', interaction_constraints='',\n",
       "              learning_rate=0.300000012, max_delta_step=0, max_depth=6,\n",
       "              min_child_weight=1, missing=nan, monotone_constraints='()',\n",
       "              n_estimators=100, n_jobs=12, num_parallel_tree=1,\n",
       "              objective='multi:softprob', random_state=0, reg_alpha=0,\n",
       "              reg_lambda=1, scale_pos_weight=None, subsample=1,\n",
       "              tree_method='exact', validate_parameters=1, verbosity=None)"
      ]
     },
     "execution_count": 96,
     "metadata": {},
     "output_type": "execute_result"
    }
   ],
   "source": [
    "model = XGBClassifier()\n",
    "model.fit(X_train, Y_train)"
   ]
  },
  {
   "cell_type": "code",
   "execution_count": 97,
   "metadata": {},
   "outputs": [
    {
     "name": "stdout",
     "output_type": "stream",
     "text": [
      "Accuracy: 98.52%\n"
     ]
    }
   ],
   "source": [
    "y_pred = model.predict(X_test)\n",
    "predictions = [round(value) for value in y_pred]\n",
    "accuracy = accuracy_score(Y_test, predictions)\n",
    "print(\"Accuracy: %.2f%%\" % (accuracy * 100.0))"
   ]
  },
  {
   "cell_type": "code",
   "execution_count": 98,
   "metadata": {},
   "outputs": [
    {
     "name": "stdout",
     "output_type": "stream",
     "text": [
      "F1 Score =  0.6978782642089094\n",
      "Precision Score =  0.6929435483870967\n",
      "Recall Score =  0.7096774193548387\n"
     ]
    }
   ],
   "source": [
    "print(\"F1 Score = \", f1_score(Y_test, y_pred, average=\"macro\"))\n",
    "print(\"Precision Score = \", precision_score(Y_test, y_pred, average=\"macro\"))\n",
    "print(\"Recall Score = \",recall_score(Y_test, y_pred, average=\"macro\"))"
   ]
  },
  {
   "cell_type": "code",
   "execution_count": null,
   "metadata": {},
   "outputs": [],
   "source": []
  }
 ],
 "metadata": {
  "kernelspec": {
   "display_name": "Python 3",
   "language": "python",
   "name": "python3"
  },
  "language_info": {
   "codemirror_mode": {
    "name": "ipython",
    "version": 3
   },
   "file_extension": ".py",
   "mimetype": "text/x-python",
   "name": "python",
   "nbconvert_exporter": "python",
   "pygments_lexer": "ipython3",
   "version": "3.8.8"
  }
 },
 "nbformat": 4,
 "nbformat_minor": 4
}
